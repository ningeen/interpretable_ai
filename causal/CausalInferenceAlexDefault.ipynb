{
 "cells": [
  {
   "cell_type": "code",
   "execution_count": 1,
   "id": "d067ebd4",
   "metadata": {},
   "outputs": [],
   "source": [
    "import numpy as np\n",
    "import pandas as pd\n",
    "\n",
    "import dowhy\n",
    "from dowhy import CausalModel\n",
    "\n",
    "from sklearn.preprocessing import LabelEncoder\n",
    "\n",
    "import networkx as nx\n",
    "import matplotlib.pyplot as plt"
   ]
  },
  {
   "cell_type": "code",
   "execution_count": 2,
   "id": "6f498b88",
   "metadata": {},
   "outputs": [],
   "source": [
    "# Disabling warnings output\n",
    "import warnings\n",
    "from sklearn.exceptions import DataConversionWarning, ConvergenceWarning\n",
    "warnings.filterwarnings(action='ignore', category=DataConversionWarning)\n",
    "warnings.filterwarnings(action='ignore', category=ConvergenceWarning)\n",
    "warnings.filterwarnings(action='ignore', category=UserWarning)\n",
    "warnings.filterwarnings(action='ignore', category=FutureWarning)"
   ]
  },
  {
   "cell_type": "code",
   "execution_count": 3,
   "id": "4e61d3c7",
   "metadata": {},
   "outputs": [
    {
     "data": {
      "image/png": "[encoded data removed]",
      "text/latex": [
       "$\\displaystyle \\left( 279792, \\  23\\right)$"
      ],
      "text/plain": [
       "(279792, 23)"
      ]
     },
     "execution_count": 3,
     "metadata": {},
     "output_type": "execute_result"
    }
   ],
   "source": [
    "dataset = pd.read_csv(\"../data/train_simple.gzip\", compression=\"gzip\")\n",
    "dataset.shape"
   ]
  },
  {
   "cell_type": "code",
   "execution_count": 4,
   "id": "27983acc",
   "metadata": {},
   "outputs": [],
   "source": [
    "cat_cols = [\"region\", \"osm_city_nearest_name\", \"realty_type\"]\n",
    "\n",
    "for col in cat_cols:\n",
    "    le = LabelEncoder()\n",
    "    dataset[col] = le.fit_transform(dataset[col])"
   ]
  },
  {
   "cell_type": "code",
   "execution_count": 5,
   "id": "a3ccf29a",
   "metadata": {},
   "outputs": [],
   "source": [
    "dataset[\"floor\"] = dataset[\"floor\"].fillna(1)\n",
    "dataset[\"city_population\"] = dataset[\"city_population\"].fillna(0)"
   ]
  },
  {
   "cell_type": "code",
   "execution_count": 6,
   "id": "cf0649c4",
   "metadata": {},
   "outputs": [],
   "source": [
    "dataset[\"price_type\"] = dataset[\"price_type\"].astype(bool)"
   ]
  },
  {
   "cell_type": "code",
   "execution_count": 7,
   "id": "3c388df7",
   "metadata": {},
   "outputs": [
    {
     "data": {
      "text/plain": [
       "0"
      ]
     },
     "execution_count": 7,
     "metadata": {},
     "output_type": "execute_result"
    }
   ],
   "source": [
    "dataset.isna().sum().sum()"
   ]
  },
  {
   "cell_type": "markdown",
   "id": "c0ae0693",
   "metadata": {},
   "source": [
    "#### Получение бинарного признака из reform_mean_year_building_500"
   ]
  },
  {
   "cell_type": "code",
   "execution_count": 8,
   "id": "f097e5df",
   "metadata": {},
   "outputs": [],
   "source": [
    "import seaborn as sns"
   ]
  },
  {
   "cell_type": "code",
   "execution_count": 9,
   "id": "98a6aae2",
   "metadata": {},
   "outputs": [
    {
     "data": {
      "image/png": "[encoded data removed]",
      "text/plain": [
       "<Figure size 432x288 with 1 Axes>"
      ]
     },
     "metadata": {
      "needs_background": "light"
     },
     "output_type": "display_data"
    }
   ],
   "source": [
    "mean = dataset[\"reform_mean_year_building_500\"].mean()\n",
    "median = dataset[\"reform_mean_year_building_500\"].median()\n",
    "sns.histplot(dataset[\"reform_mean_year_building_500\"])\n",
    "plt.axvline(median, label=f\"median: {median:.1f}\", c='g')\n",
    "plt.axvline(mean, label=f\"mean: {mean:.1f}\", c='r')\n",
    "plt.xlim([1900, 2021])\n",
    "plt.legend()\n",
    "plt.show()"
   ]
  },
  {
   "cell_type": "code",
   "execution_count": 10,
   "id": "ff449ba0",
   "metadata": {},
   "outputs": [
    {
     "data": {
      "text/plain": [
       "False    220203\n",
       "True      59589\n",
       "Name: reform_mean_year_building_500_after_1991, dtype: int64"
      ]
     },
     "execution_count": 10,
     "metadata": {},
     "output_type": "execute_result"
    }
   ],
   "source": [
    "dataset[\"reform_mean_year_building_500_after_1991\"] = dataset[\"reform_mean_year_building_500\"].apply(lambda x: True if x > 1991 else False)\n",
    "del dataset[\"reform_mean_year_building_500\"]\n",
    "\n",
    "dataset[\"reform_mean_year_building_500_after_1991\"].value_counts()"
   ]
  },
  {
   "cell_type": "markdown",
   "id": "a0459b38",
   "metadata": {},
   "source": [
    "## **Описание задачи**\n",
    "\n",
    "Предсказание цены коммерческой недвижимости. Оценка вручную занимает много времени (долгая оценка = задержка решения по выдаче кредита → можно потерять клиента), зато есть много данных по оценке стоимости недвижимости из объявлений в интернете. Предлагается сравнить эти 2 группы наблюдений.\n",
    "\n",
    "* [Описание данных](https://russianhackers.notion.site/c666cd6d3d8c44adb79d73f69d3ee81a?v=2b1e857b3252422a87cd95cf51225ba0)\n",
    "* [Описание исходной задачи](https://russianhackers.notion.site/6b142361271a42feb6581759a8c886e0)"
   ]
  },
  {
   "cell_type": "markdown",
   "id": "c2972b12",
   "metadata": {},
   "source": [
    "### Step 1. Modeling a causal graph"
   ]
  },
  {
   "cell_type": "code",
   "execution_count": 11,
   "id": "838a9b60",
   "metadata": {},
   "outputs": [],
   "source": [
    "target = \"per_square_meter_price\"\n",
    "treatment = \"reform_mean_year_building_500_after_1991\" # Дома в радиусе 500 метров в среднем построены позже 1991 (распад СССР)"
   ]
  },
  {
   "cell_type": "code",
   "execution_count": 12,
   "id": "c30f0be1",
   "metadata": {},
   "outputs": [],
   "source": [
    "feature_columns = [\n",
    "    'city_population',                  # Население города\n",
    "    'total_square',                     # Общая площадь\n",
    "    'osm_catering_points_in_0.005',     # Кол-во заведений общепита в радиусе 500 метров, OpenStreetMap\n",
    "    'region',                           # Регион\n",
    "    'floor',                            # Этаж\n",
    "    'realty_type',                      # Тип недвижимости (закодирован)\n",
    "    'osm_crossing_closest_dist',        # Расстояние до ближайшего пешеходного перехода\n",
    "    'osm_subway_closest_dist',          # Расстояние до ближайщей станции метро, OpenStreetMap\n",
    "    'reform_mean_floor_count_1000',     # Средняя этажность домов в радиусе 1 км по истоинчку РеформаЖКХ\n",
    "    'osm_transport_stop_closest_dist',  # Расстояние до ближайщей остановки общественного транспорта, OpenStreetMap\n",
    "    'osm_amenity_points_in_0.001',      # Кол-во объектов связанных с удобством в радиусе 100 метров, OpenStreetMap\n",
    "    'osm_city_closest_dist',            # Расстояние до центра ближайшего города, OpenStreetMap\n",
    "    'floor_type',                       # Тип этажа\n",
    "]"
   ]
  },
  {
   "cell_type": "code",
   "execution_count": 13,
   "id": "50140e52",
   "metadata": {},
   "outputs": [],
   "source": [
    "dataset = dataset.loc[:, feature_columns + [treatment] + [target]]"
   ]
  },
  {
   "cell_type": "code",
   "execution_count": 19,
   "id": "288ea459",
   "metadata": {},
   "outputs": [
    {
     "data": {
      "image/png": "[encoded data removed]",
      "text/plain": [
       "<Figure size 432x288 with 1 Axes>"
      ]
     },
     "metadata": {},
     "output_type": "display_data"
    }
   ],
   "source": [
    "model = CausalModel(\n",
    "    data=dataset,\n",
    "    treatment=treatment,\n",
    "    outcome=target,\n",
    "    common_causes=feature_columns,\n",
    ")\n",
    "\n",
    "model.view_model()"
   ]
  },
  {
   "cell_type": "markdown",
   "id": "10661812",
   "metadata": {},
   "source": [
    "### Step 2. Identification (formulating what to estimate)"
   ]
  },
  {
   "cell_type": "code",
   "execution_count": 20,
   "id": "9e3af83b",
   "metadata": {},
   "outputs": [
    {
     "name": "stdout",
     "output_type": "stream",
     "text": [
      "Estimand type: nonparametric-ate\n",
      "\n",
      "### Estimand : 1\n",
      "Estimand name: backdoor\n",
      "Estimand expression:\n",
      "                     d                                                        \n",
      "───────────────────────────────────────────(Expectation(per_square_meter_price\n",
      "d[reform_mean_year_building_500_after_1991]                                   \n",
      "\n",
      "                                                                              \n",
      "|osm_transport_stop_closest_dist,floor_type,osm_catering_points_in_0.005,regio\n",
      "                                                                              \n",
      "\n",
      "                                                                              \n",
      "n,realty_type,osm_amenity_points_in_0.001,total_square,floor,osm_crossing_clos\n",
      "                                                                              \n",
      "\n",
      "                                                                              \n",
      "est_dist,reform_mean_floor_count_1000,osm_city_closest_dist,city_population,os\n",
      "                                                                              \n",
      "\n",
      "                       \n",
      "m_subway_closest_dist))\n",
      "                       \n",
      "Estimand assumption 1, Unconfoundedness: If U→{reform_mean_year_building_500_after_1991} and U→per_square_meter_price then P(per_square_meter_price|reform_mean_year_building_500_after_1991,osm_transport_stop_closest_dist,floor_type,osm_catering_points_in_0.005,region,realty_type,osm_amenity_points_in_0.001,total_square,floor,osm_crossing_closest_dist,reform_mean_floor_count_1000,osm_city_closest_dist,city_population,osm_subway_closest_dist,U) = P(per_square_meter_price|reform_mean_year_building_500_after_1991,osm_transport_stop_closest_dist,floor_type,osm_catering_points_in_0.005,region,realty_type,osm_amenity_points_in_0.001,total_square,floor,osm_crossing_closest_dist,reform_mean_floor_count_1000,osm_city_closest_dist,city_population,osm_subway_closest_dist)\n",
      "\n",
      "### Estimand : 2\n",
      "Estimand name: iv\n",
      "No such variable found!\n",
      "\n",
      "### Estimand : 3\n",
      "Estimand name: frontdoor\n",
      "No such variable found!\n",
      "\n",
      "Wall time: 6.15 ms\n"
     ]
    }
   ],
   "source": [
    "%%time\n",
    "\n",
    "identified_estimand = model.identify_effect(proceed_when_unidentifiable=True)\n",
    "print(identified_estimand)"
   ]
  },
  {
   "cell_type": "markdown",
   "id": "1d62a80f",
   "metadata": {},
   "source": [
    "### Step 3. Estimation (compute the estimate)"
   ]
  },
  {
   "cell_type": "code",
   "execution_count": 21,
   "id": "3424b031",
   "metadata": {},
   "outputs": [
    {
     "name": "stdout",
     "output_type": "stream",
     "text": [
      "*** Causal Estimate ***\n",
      "\n",
      "## Identified estimand\n",
      "Estimand type: nonparametric-ate\n",
      "\n",
      "### Estimand : 1\n",
      "Estimand name: backdoor\n",
      "Estimand expression:\n",
      "                     d                                                        \n",
      "───────────────────────────────────────────(Expectation(per_square_meter_price\n",
      "d[reform_mean_year_building_500_after_1991]                                   \n",
      "\n",
      "                                                                              \n",
      "|osm_transport_stop_closest_dist,floor_type,osm_catering_points_in_0.005,regio\n",
      "                                                                              \n",
      "\n",
      "                                                                              \n",
      "n,realty_type,osm_amenity_points_in_0.001,total_square,floor,osm_crossing_clos\n",
      "                                                                              \n",
      "\n",
      "                                                                              \n",
      "est_dist,reform_mean_floor_count_1000,osm_city_closest_dist,city_population,os\n",
      "                                                                              \n",
      "\n",
      "                       \n",
      "m_subway_closest_dist))\n",
      "                       \n",
      "Estimand assumption 1, Unconfoundedness: If U→{reform_mean_year_building_500_after_1991} and U→per_square_meter_price then P(per_square_meter_price|reform_mean_year_building_500_after_1991,osm_transport_stop_closest_dist,floor_type,osm_catering_points_in_0.005,region,realty_type,osm_amenity_points_in_0.001,total_square,floor,osm_crossing_closest_dist,reform_mean_floor_count_1000,osm_city_closest_dist,city_population,osm_subway_closest_dist,U) = P(per_square_meter_price|reform_mean_year_building_500_after_1991,osm_transport_stop_closest_dist,floor_type,osm_catering_points_in_0.005,region,realty_type,osm_amenity_points_in_0.001,total_square,floor,osm_crossing_closest_dist,reform_mean_floor_count_1000,osm_city_closest_dist,city_population,osm_subway_closest_dist)\n",
      "\n",
      "## Realized estimand\n",
      "b: per_square_meter_price~reform_mean_year_building_500_after_1991+osm_transport_stop_closest_dist+floor_type+osm_catering_points_in_0.005+region+realty_type+osm_amenity_points_in_0.001+total_square+floor+osm_crossing_closest_dist+reform_mean_floor_count_1000+osm_city_closest_dist+city_population+osm_subway_closest_dist\n",
      "Target units: ate\n",
      "\n",
      "## Estimate\n",
      "Mean value: -28854.788995822175\n",
      "\n",
      "Wall time: 1.38 s\n"
     ]
    }
   ],
   "source": [
    "%%time\n",
    "\n",
    "estimate = model.estimate_effect(\n",
    "    identified_estimand,\n",
    "    method_name=\"backdoor.propensity_score_stratification\",\n",
    "    target_units=\"ate\",\n",
    ")\n",
    "# ATE = Average Treatment Effect\n",
    "# ATT = Average Treatment Effect on Treated (i.e. those who were assigned a different room)\n",
    "# ATC = Average Treatment Effect on Control (i.e. those who were not assigned a different room)\n",
    "print(estimate)"
   ]
  },
  {
   "cell_type": "code",
   "execution_count": 22,
   "id": "8be943ab",
   "metadata": {},
   "outputs": [],
   "source": [
    "# Получен тот же результат, что и с кастомным графом"
   ]
  },
  {
   "cell_type": "markdown",
   "id": "21ffd34c",
   "metadata": {},
   "source": [
    "### Refute"
   ]
  },
  {
   "cell_type": "code",
   "execution_count": 23,
   "id": "e49d7f35",
   "metadata": {},
   "outputs": [
    {
     "name": "stdout",
     "output_type": "stream",
     "text": [
      "Refute: Add a Random Common Cause\n",
      "Estimated effect:-28854.788995822175\n",
      "New effect:-28853.952628461047\n",
      "\n",
      "Wall time: 1.34 s\n"
     ]
    }
   ],
   "source": [
    "%%time\n",
    "# Добавим случайную общую причину для reform_mean_year_building_500_after_1991 и per_square_meter_price,\n",
    "# чтобы оценить ее влияние на полученную оценку\n",
    "\n",
    "refute_results = model.refute_estimate(\n",
    "    identified_estimand, \n",
    "    estimate,\n",
    "    method_name=\"random_common_cause\",\n",
    "    random_seed=0\n",
    ")\n",
    "print(refute_results)"
   ]
  },
  {
   "cell_type": "code",
   "execution_count": 24,
   "id": "9abb341c",
   "metadata": {},
   "outputs": [],
   "source": [
    "# Оценка не изменилась, значит мы правильно оценили эффекты влияния treatment на target и общей причины нет"
   ]
  },
  {
   "cell_type": "code",
   "execution_count": 25,
   "id": "b6af4357",
   "metadata": {},
   "outputs": [
    {
     "name": "stdout",
     "output_type": "stream",
     "text": [
      "Refute: Use a Placebo Treatment\n",
      "Estimated effect:-28854.788995822175\n",
      "New effect:-308.6820211227558\n",
      "p value:0.1583422686601248\n",
      "\n",
      "Wall time: 7.56 s\n"
     ]
    }
   ],
   "source": [
    "%%time\n",
    "# Заменим treatment независимой случайной величиной, чтобы проверить,\n",
    "# является ли полученная нами изначальная оценка случайной\n",
    "\n",
    "res_placebo = model.refute_estimate(\n",
    "    identified_estimand, \n",
    "    estimate,\n",
    "    method_name=\"placebo_treatment_refuter\", \n",
    "    placebo_type=\"permute\", \n",
    "    num_simulations=5,\n",
    ")\n",
    "print(res_placebo)"
   ]
  },
  {
   "cell_type": "code",
   "execution_count": 26,
   "id": "6ac302da",
   "metadata": {},
   "outputs": [],
   "source": [
    "# Причинно-следственный эффект оказался незначительным с первоначальным,\n",
    "# значит наша оценка влияния treatment на target состоятельна"
   ]
  },
  {
   "cell_type": "code",
   "execution_count": 27,
   "id": "0339bcb2",
   "metadata": {},
   "outputs": [
    {
     "name": "stdout",
     "output_type": "stream",
     "text": [
      "Refute: Use a Dummy Outcome\n",
      "Estimated effect:0\n",
      "New effect:-0.001197504780635029\n",
      "p value:0.42357279635179457\n",
      "\n",
      "Wall time: 7.31 s\n"
     ]
    }
   ],
   "source": [
    "%%time\n",
    "# Заменим таргет независимой случайной величиной. Если наша первоначальная оценка причинно-следственного эффекта неверна,\n",
    "# то мы получим значительный эффект\n",
    "\n",
    "res_dummy = model.refute_estimate(\n",
    "    identified_estimand, \n",
    "    estimate,\n",
    "    method_name=\"dummy_outcome_refuter\", \n",
    "    placebo_type=\"permute\", \n",
    "    num_simulations=5,\n",
    ")\n",
    "print(res_dummy[0])"
   ]
  },
  {
   "cell_type": "code",
   "execution_count": 28,
   "id": "1a3f6326",
   "metadata": {},
   "outputs": [],
   "source": [
    "# Полученный причинно-следственный эффект оказался близок к нулю, значит наша оценка влияния treatment на target состоятельна"
   ]
  },
  {
   "cell_type": "code",
   "execution_count": 29,
   "id": "5954795b",
   "metadata": {},
   "outputs": [
    {
     "name": "stdout",
     "output_type": "stream",
     "text": [
      "Refute: Use a subset of data\n",
      "Estimated effect:-28854.788995822175\n",
      "New effect:-31326.353135055873\n",
      "p value:0.0\n",
      "\n",
      "Wall time: 8.04 s\n"
     ]
    },
    {
     "name": "stderr",
     "output_type": "stream",
     "text": [
      "C:\\Users\\Sasha\\AppData\\Roaming\\Python\\Python38\\site-packages\\dowhy\\causal_refuter.py:201: RuntimeWarning: divide by zero encountered in double_scalars\n",
      "  z_score = (estimate.value - mean_refute_values)/ std_dev_refute_values\n"
     ]
    }
   ],
   "source": [
    "%%time\n",
    "# Заменим набор данных случайным выбранным подмножеством и проверим изменится оценочный эффект\n",
    "\n",
    "res_subset = model.refute_estimate(\n",
    "    identified_estimand, \n",
    "    estimate,\n",
    "    method_name=\"data_subset_refuter\", \n",
    "    subset_fraction=0.9, \n",
    "    num_simulations=5,\n",
    "    random_state=0,\n",
    ")\n",
    "print(res_subset)"
   ]
  },
  {
   "cell_type": "code",
   "execution_count": null,
   "id": "b55fcf8e",
   "metadata": {},
   "outputs": [],
   "source": [
    "# Эффект изменился в разумных пределах, значит наша оценка влияния treatment на target состоятельна"
   ]
  },
  {
   "cell_type": "code",
   "execution_count": null,
   "id": "f37139d2",
   "metadata": {},
   "outputs": [],
   "source": [
    "# Вывод: рещультаты не изменились при сравнении с кастомным графом, "
   ]
  }
 ],
 "metadata": {
  "kernelspec": {
   "display_name": "Python 3 (ipykernel)",
   "language": "python",
   "name": "python3"
  },
  "language_info": {
   "codemirror_mode": {
    "name": "ipython",
    "version": 3
   },
   "file_extension": ".py",
   "mimetype": "text/x-python",
   "name": "python",
   "nbconvert_exporter": "python",
   "pygments_lexer": "ipython3",
   "version": "3.8.0"
  }
 },
 "nbformat": 4,
 "nbformat_minor": 5
}
