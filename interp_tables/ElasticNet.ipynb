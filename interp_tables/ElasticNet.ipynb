{
 "cells": [
  {
   "cell_type": "code",
   "execution_count": 1,
   "id": "48e3e476",
   "metadata": {},
   "outputs": [],
   "source": [
    "import numpy as np\n",
    "import pandas as pd\n",
    "from sklearn.preprocessing import LabelEncoder\n",
    "import matplotlib.pyplot as plt"
   ]
  },
  {
   "cell_type": "code",
   "execution_count": 2,
   "id": "17904296",
   "metadata": {},
   "outputs": [
    {
     "data": {
      "text/plain": [
       "(279792, 23)"
      ]
     },
     "execution_count": 2,
     "metadata": {},
     "output_type": "execute_result"
    }
   ],
   "source": [
    "dataset = pd.read_csv(\"../data/train_simple.gzip\", compression=\"gzip\")\n",
    "dataset.shape"
   ]
  },
  {
   "cell_type": "code",
   "execution_count": 3,
   "id": "acc8a06c",
   "metadata": {},
   "outputs": [],
   "source": [
    "cat_cols = [\"region\", \"osm_city_nearest_name\", \"realty_type\"]\n",
    "\n",
    "for col in cat_cols:\n",
    "    le = LabelEncoder()\n",
    "    dataset[col] = le.fit_transform(dataset[col])"
   ]
  },
  {
   "cell_type": "code",
   "execution_count": 4,
   "id": "33dbf596",
   "metadata": {},
   "outputs": [],
   "source": [
    "dataset[\"floor\"] = dataset[\"floor\"].fillna(1)\n",
    "dataset[\"city_population\"] = dataset[\"city_population\"].fillna(0)"
   ]
  },
  {
   "cell_type": "code",
   "execution_count": 5,
   "id": "01d21b76",
   "metadata": {},
   "outputs": [],
   "source": [
    "dataset[\"price_type\"] = dataset[\"price_type\"].astype(bool)"
   ]
  },
  {
   "cell_type": "code",
   "execution_count": 6,
   "id": "f687569c",
   "metadata": {},
   "outputs": [
    {
     "data": {
      "text/plain": [
       "0"
      ]
     },
     "execution_count": 6,
     "metadata": {},
     "output_type": "execute_result"
    }
   ],
   "source": [
    "dataset.isna().sum().sum()"
   ]
  },
  {
   "cell_type": "markdown",
   "id": "b1dca4fc",
   "metadata": {},
   "source": [
    "# Split data"
   ]
  },
  {
   "cell_type": "code",
   "execution_count": 7,
   "id": "8d7dadef",
   "metadata": {},
   "outputs": [],
   "source": [
    "target = \"per_square_meter_price\"\n",
    "treatment = \"price_type\""
   ]
  },
  {
   "cell_type": "code",
   "execution_count": 8,
   "id": "ef14bde2",
   "metadata": {},
   "outputs": [],
   "source": [
    "feature_columns = [\n",
    "    'city_population',                  # население города\n",
    "    'total_square',                     # Общая площадь\n",
    "    'osm_catering_points_in_0.005',     # Кол-во заведений общепита в радиусе 500 метров, OpenStreetMap\n",
    "    'region',                           # Регион\n",
    "    'floor',                            # Этаж\n",
    "    'realty_type',                      # Тип недвижимости (закодирован)\n",
    "    'osm_crossing_closest_dist',        # Расстояние до ближайшего пешеходного перехода\n",
    "    'osm_city_nearest_name',            # Название ближайшего города по OpenStreetMap\n",
    "    'osm_subway_closest_dist',          # Расстояние до ближайщей станции метро, OpenStreetMap\n",
    "    'reform_mean_floor_count_1000',     # Средняя этажность домов в радиусе 1 км по истоинчку РеформаЖКХ\n",
    "    'osm_transport_stop_closest_dist',  # Расстояние до ближайщей остановки общественного транспорта, OpenStreetMap\n",
    "    'osm_amenity_points_in_0.001',      # Кол-во объектов связанных с удобством в радиусе 100 метров, OpenStreetMap\n",
    "    'osm_city_nearest_population',      # Население ближайшего города по OpenStreetMap\n",
    "    'lng',                              # Долгота\n",
    "    'osm_city_closest_dist',            # Расстояние до центра ближайшего города, OpenStreetMap\n",
    "    'osm_crossing_points_in_0.005',     # Кол-во пешеходных переходов в радиусе 500 метров, OpenStreetMap\n",
    "    'floor_type',                       # тип этажа\n",
    "    'lat',                              # Широта\n",
    "    'reform_mean_year_building_500',    # Среднее значение года постройки домов в радиусе 500 метров по истоинчку РеформаЖКХ\n",
    "    'osm_culture_points_in_0.005',      # Кол-во объектов культуры в радиусе 500 метров, OpenStreetMap\n",
    "    'reform_house_population_500',      # Коэффициент количества проживающих людей в радиусе 500 метров по источнику РеформаЖКХ\n",
    "]"
   ]
  },
  {
   "cell_type": "code",
   "execution_count": 9,
   "id": "095f1fcc",
   "metadata": {},
   "outputs": [
    {
     "data": {
      "text/plain": [
       "((275299, 21), (4493, 21))"
      ]
     },
     "execution_count": 9,
     "metadata": {},
     "output_type": "execute_result"
    }
   ],
   "source": [
    "X_train = dataset.loc[dataset[treatment] == 0, feature_columns]\n",
    "X_test = dataset.loc[dataset[treatment] == 1, feature_columns]\n",
    "\n",
    "y_train = dataset.loc[dataset[treatment] == 0, target]\n",
    "y_test = dataset.loc[dataset[treatment] == 1, target]\n",
    "\n",
    "X_train.shape, X_test.shape"
   ]
  },
  {
   "cell_type": "markdown",
   "id": "7b10b2f2",
   "metadata": {},
   "source": [
    "# Model"
   ]
  },
  {
   "cell_type": "code",
   "execution_count": 11,
   "id": "a1febeed",
   "metadata": {},
   "outputs": [],
   "source": [
    "from sklearn.pipeline import make_pipeline\n",
    "from sklearn.preprocessing import StandardScaler\n",
    "from sklearn.model_selection import cross_val_score\n",
    "from sklearn.linear_model import ElasticNet\n",
    "\n",
    "import optuna\n",
    "from optuna.samplers import TPESampler\n",
    "from optuna.study import Study"
   ]
  },
  {
   "cell_type": "code",
   "execution_count": 15,
   "id": "9f920d33",
   "metadata": {},
   "outputs": [],
   "source": [
    "def objective(trial) -> float:\n",
    "    params = {\n",
    "        \"alpha\": trial.suggest_float(\"alpha\", 0.0, 1.0),\n",
    "        \"l1_ratio\": trial.suggest_float(\"l1_ratio\", 0.0, 1.0),\n",
    "    }\n",
    "    \n",
    "    n_features = trial.suggest_int(\"n_features\", 10, len(feature_columns))\n",
    "    \n",
    "    model = make_pipeline(\n",
    "        StandardScaler(),\n",
    "        ElasticNet(),\n",
    "    )\n",
    "\n",
    "    cv_scores = cross_val_score(\n",
    "        model, \n",
    "        X_train.iloc[:, :n_features].values, \n",
    "        y_train, \n",
    "        scoring=\"neg_root_mean_squared_error\", \n",
    "        cv=5\n",
    "    )\n",
    "    \n",
    "    mean_scores = np.mean(cv_scores)\n",
    "    return mean_scores if not np.isnan(mean_scores) else -200_000"
   ]
  },
  {
   "cell_type": "code",
   "execution_count": 20,
   "id": "d9fd6d95",
   "metadata": {
    "scrolled": true
   },
   "outputs": [
    {
     "name": "stderr",
     "output_type": "stream",
     "text": [
      "\u001b[32m[I 2021-11-25 02:02:46,333]\u001b[0m A new study created in memory with name: no-name-6e8c5a76-0973-4de2-bf1c-c42053188ec1\u001b[0m\n",
      "\u001b[32m[I 2021-11-25 02:02:47,592]\u001b[0m Trial 0 finished with value: -129772.29605751717 and parameters: {'alpha': 0.3745401188473625, 'l1_ratio': 0.9507143064099162, 'n_features': 18}. Best is trial 0 with value: -129772.29605751717.\u001b[0m\n",
      "\u001b[32m[I 2021-11-25 02:02:48,418]\u001b[0m Trial 1 finished with value: -134093.64771499374 and parameters: {'alpha': 0.5986584841970366, 'l1_ratio': 0.15601864044243652, 'n_features': 11}. Best is trial 0 with value: -129772.29605751717.\u001b[0m\n",
      "\u001b[32m[I 2021-11-25 02:02:49,605]\u001b[0m Trial 2 finished with value: -129767.47261658136 and parameters: {'alpha': 0.05808361216819946, 'l1_ratio': 0.8661761457749352, 'n_features': 17}. Best is trial 2 with value: -129767.47261658136.\u001b[0m\n",
      "\u001b[32m[I 2021-11-25 02:02:51,047]\u001b[0m Trial 3 finished with value: -129754.7221908299 and parameters: {'alpha': 0.7080725777960455, 'l1_ratio': 0.020584494295802447, 'n_features': 21}. Best is trial 3 with value: -129754.7221908299.\u001b[0m\n",
      "\u001b[32m[I 2021-11-25 02:02:51,868]\u001b[0m Trial 4 finished with value: -132751.072954737 and parameters: {'alpha': 0.8324426408004217, 'l1_ratio': 0.21233911067827616, 'n_features': 12}. Best is trial 3 with value: -129754.7221908299.\u001b[0m\n",
      "\u001b[32m[I 2021-11-25 02:02:53,038]\u001b[0m Trial 5 finished with value: -130465.64301828932 and parameters: {'alpha': 0.18340450985343382, 'l1_ratio': 0.3042422429595377, 'n_features': 16}. Best is trial 3 with value: -129754.7221908299.\u001b[0m\n",
      "\u001b[32m[I 2021-11-25 02:02:54,209]\u001b[0m Trial 6 finished with value: -129767.47261658136 and parameters: {'alpha': 0.43194501864211576, 'l1_ratio': 0.2912291401980419, 'n_features': 17}. Best is trial 3 with value: -129754.7221908299.\u001b[0m\n",
      "\u001b[32m[I 2021-11-25 02:02:55,202]\u001b[0m Trial 7 finished with value: -130479.7973853978 and parameters: {'alpha': 0.13949386065204183, 'l1_ratio': 0.29214464853521815, 'n_features': 14}. Best is trial 3 with value: -129754.7221908299.\u001b[0m\n",
      "\u001b[32m[I 2021-11-25 02:02:56,024]\u001b[0m Trial 8 finished with value: -132751.072954737 and parameters: {'alpha': 0.45606998421703593, 'l1_ratio': 0.7851759613930136, 'n_features': 12}. Best is trial 3 with value: -129754.7221908299.\u001b[0m\n",
      "\u001b[32m[I 2021-11-25 02:02:56,755]\u001b[0m Trial 9 finished with value: -134092.41417761883 and parameters: {'alpha': 0.5142344384136116, 'l1_ratio': 0.5924145688620425, 'n_features': 10}. Best is trial 3 with value: -129754.7221908299.\u001b[0m\n",
      "\u001b[32m[I 2021-11-25 02:02:58,258]\u001b[0m Trial 10 finished with value: -129754.7221908299 and parameters: {'alpha': 0.9679380298865652, 'l1_ratio': 0.005997182955817026, 'n_features': 21}. Best is trial 3 with value: -129754.7221908299.\u001b[0m\n",
      "\u001b[32m[I 2021-11-25 02:02:59,713]\u001b[0m Trial 11 finished with value: -129754.7221908299 and parameters: {'alpha': 0.9344632921196616, 'l1_ratio': 0.014517101588358911, 'n_features': 21}. Best is trial 3 with value: -129754.7221908299.\u001b[0m\n",
      "\u001b[32m[I 2021-11-25 02:03:01,186]\u001b[0m Trial 12 finished with value: -129754.7221908299 and parameters: {'alpha': 0.7450488472359594, 'l1_ratio': 0.010879825176698945, 'n_features': 21}. Best is trial 3 with value: -129754.7221908299.\u001b[0m\n",
      "\u001b[32m[I 2021-11-25 02:03:02,507]\u001b[0m Trial 13 finished with value: -129752.73074231853 and parameters: {'alpha': 0.997466401927179, 'l1_ratio': 0.4933896683517927, 'n_features': 19}. Best is trial 13 with value: -129752.73074231853.\u001b[0m\n",
      "\u001b[32m[I 2021-11-25 02:03:03,824]\u001b[0m Trial 14 finished with value: -129752.73074231853 and parameters: {'alpha': 0.6843224024170569, 'l1_ratio': 0.5188416265925062, 'n_features': 19}. Best is trial 13 with value: -129752.73074231853.\u001b[0m\n",
      "\u001b[32m[I 2021-11-25 02:03:05,150]\u001b[0m Trial 15 finished with value: -129752.73074231853 and parameters: {'alpha': 0.821513703439813, 'l1_ratio': 0.5275468369898846, 'n_features': 19}. Best is trial 13 with value: -129752.73074231853.\u001b[0m\n",
      "\u001b[32m[I 2021-11-25 02:03:06,447]\u001b[0m Trial 16 finished with value: -129752.73074231853 and parameters: {'alpha': 0.6526630340603742, 'l1_ratio': 0.6458564407032412, 'n_features': 19}. Best is trial 13 with value: -129752.73074231853.\u001b[0m\n",
      "\u001b[32m[I 2021-11-25 02:03:07,453]\u001b[0m Trial 17 finished with value: -130479.7973853978 and parameters: {'alpha': 0.31880191928562945, 'l1_ratio': 0.6849096617898569, 'n_features': 14}. Best is trial 13 with value: -129752.73074231853.\u001b[0m\n",
      "\u001b[32m[I 2021-11-25 02:03:08,792]\u001b[0m Trial 18 finished with value: -129752.73074231853 and parameters: {'alpha': 0.8369277125975021, 'l1_ratio': 0.4543627498540995, 'n_features': 19}. Best is trial 13 with value: -129752.73074231853.\u001b[0m\n",
      "\u001b[32m[I 2021-11-25 02:03:09,904]\u001b[0m Trial 19 finished with value: -130467.48159505348 and parameters: {'alpha': 0.5984177031868545, 'l1_ratio': 0.42800127401031135, 'n_features': 15}. Best is trial 13 with value: -129752.73074231853.\u001b[0m\n",
      "\u001b[32m[I 2021-11-25 02:03:11,147]\u001b[0m Trial 20 finished with value: -129772.29605751717 and parameters: {'alpha': 0.8099661276965429, 'l1_ratio': 0.6864207281589315, 'n_features': 18}. Best is trial 13 with value: -129752.73074231853.\u001b[0m\n",
      "\u001b[32m[I 2021-11-25 02:03:12,482]\u001b[0m Trial 21 finished with value: -129752.73074231853 and parameters: {'alpha': 0.8768427232198072, 'l1_ratio': 0.40095596968204406, 'n_features': 19}. Best is trial 13 with value: -129752.73074231853.\u001b[0m\n",
      "\u001b[32m[I 2021-11-25 02:03:13,926]\u001b[0m Trial 22 finished with value: -129738.00093359035 and parameters: {'alpha': 0.885695762228656, 'l1_ratio': 0.4081196617917175, 'n_features': 20}. Best is trial 22 with value: -129738.00093359035.\u001b[0m\n",
      "\u001b[32m[I 2021-11-25 02:03:15,323]\u001b[0m Trial 23 finished with value: -129738.00093359035 and parameters: {'alpha': 0.6176029829925886, 'l1_ratio': 0.644731065483197, 'n_features': 20}. Best is trial 22 with value: -129738.00093359035.\u001b[0m\n",
      "\u001b[32m[I 2021-11-25 02:03:16,735]\u001b[0m Trial 24 finished with value: -129738.00093359035 and parameters: {'alpha': 0.9097769940177212, 'l1_ratio': 0.3849679031223867, 'n_features': 20}. Best is trial 22 with value: -129738.00093359035.\u001b[0m\n",
      "\u001b[32m[I 2021-11-25 02:03:18,142]\u001b[0m Trial 25 finished with value: -129738.00093359035 and parameters: {'alpha': 0.7582236170130738, 'l1_ratio': 0.3776591447126204, 'n_features': 20}. Best is trial 22 with value: -129738.00093359035.\u001b[0m\n",
      "\u001b[32m[I 2021-11-25 02:03:19,579]\u001b[0m Trial 26 finished with value: -129738.00093359035 and parameters: {'alpha': 0.5418607330183418, 'l1_ratio': 0.7810386441369601, 'n_features': 20}. Best is trial 22 with value: -129738.00093359035.\u001b[0m\n",
      "\u001b[32m[I 2021-11-25 02:03:21,000]\u001b[0m Trial 27 finished with value: -129738.00093359035 and parameters: {'alpha': 0.531747746300795, 'l1_ratio': 0.7959321761934759, 'n_features': 20}. Best is trial 22 with value: -129738.00093359035.\u001b[0m\n",
      "\u001b[32m[I 2021-11-25 02:03:22,286]\u001b[0m Trial 28 finished with value: -129772.29605751717 and parameters: {'alpha': 0.3198725735968876, 'l1_ratio': 0.14380008868507954, 'n_features': 18}. Best is trial 22 with value: -129738.00093359035.\u001b[0m\n",
      "\u001b[32m[I 2021-11-25 02:03:23,504]\u001b[0m Trial 29 finished with value: -129767.47261658136 and parameters: {'alpha': 0.7444321616284849, 'l1_ratio': 0.3279853214684624, 'n_features': 17}. Best is trial 22 with value: -129738.00093359035.\u001b[0m\n",
      "\u001b[32m[I 2021-11-25 02:03:24,953]\u001b[0m Trial 30 finished with value: -129738.00093359035 and parameters: {'alpha': 0.5411363256922497, 'l1_ratio': 0.9499410304112342, 'n_features': 20}. Best is trial 22 with value: -129738.00093359035.\u001b[0m\n",
      "\u001b[32m[I 2021-11-25 02:03:26,389]\u001b[0m Trial 31 finished with value: -129738.00093359035 and parameters: {'alpha': 0.5335787271227407, 'l1_ratio': 0.9832838090903107, 'n_features': 20}. Best is trial 22 with value: -129738.00093359035.\u001b[0m\n",
      "\u001b[32m[I 2021-11-25 02:03:27,815]\u001b[0m Trial 32 finished with value: -129738.00093359035 and parameters: {'alpha': 0.38228257081903494, 'l1_ratio': 0.9290150258017995, 'n_features': 20}. Best is trial 22 with value: -129738.00093359035.\u001b[0m\n",
      "\u001b[32m[I 2021-11-25 02:03:29,090]\u001b[0m Trial 33 finished with value: -129772.29605751717 and parameters: {'alpha': 0.38745597496651935, 'l1_ratio': 0.9002390424035127, 'n_features': 18}. Best is trial 22 with value: -129738.00093359035.\u001b[0m\n"
     ]
    },
    {
     "name": "stderr",
     "output_type": "stream",
     "text": [
      "\u001b[32m[I 2021-11-25 02:03:30,561]\u001b[0m Trial 34 finished with value: -129754.7221908299 and parameters: {'alpha': 0.6113822886003106, 'l1_ratio': 0.20432051594156575, 'n_features': 21}. Best is trial 22 with value: -129738.00093359035.\u001b[0m\n",
      "\u001b[32m[I 2021-11-25 02:03:31,786]\u001b[0m Trial 35 finished with value: -130465.64301828932 and parameters: {'alpha': 0.3143132317335919, 'l1_ratio': 0.9372706852885611, 'n_features': 16}. Best is trial 22 with value: -129738.00093359035.\u001b[0m\n",
      "\u001b[32m[I 2021-11-25 02:03:33,174]\u001b[0m Trial 36 finished with value: -129738.00093359035 and parameters: {'alpha': 0.9077687473760129, 'l1_ratio': 0.7820830001801455, 'n_features': 20}. Best is trial 22 with value: -129738.00093359035.\u001b[0m\n",
      "\u001b[32m[I 2021-11-25 02:03:34,451]\u001b[0m Trial 37 finished with value: -129772.29605751717 and parameters: {'alpha': 0.21073666831137206, 'l1_ratio': 0.9810773713598697, 'n_features': 18}. Best is trial 22 with value: -129738.00093359035.\u001b[0m\n",
      "\u001b[32m[I 2021-11-25 02:03:35,661]\u001b[0m Trial 38 finished with value: -129767.47261658136 and parameters: {'alpha': 0.7270079494078607, 'l1_ratio': 0.5738720949951608, 'n_features': 17}. Best is trial 22 with value: -129738.00093359035.\u001b[0m\n",
      "\u001b[32m[I 2021-11-25 02:03:37,093]\u001b[0m Trial 39 finished with value: -129754.7221908299 and parameters: {'alpha': 0.9122271394155584, 'l1_ratio': 0.7933014753361963, 'n_features': 21}. Best is trial 22 with value: -129738.00093359035.\u001b[0m\n",
      "\u001b[32m[I 2021-11-25 02:03:38,503]\u001b[0m Trial 40 finished with value: -129738.00093359035 and parameters: {'alpha': 0.7769878118807331, 'l1_ratio': 0.36196131444818896, 'n_features': 20}. Best is trial 22 with value: -129738.00093359035.\u001b[0m\n",
      "\u001b[32m[I 2021-11-25 02:03:39,932]\u001b[0m Trial 41 finished with value: -129738.00093359035 and parameters: {'alpha': 0.78420667493121, 'l1_ratio': 0.3707720014712852, 'n_features': 20}. Best is trial 22 with value: -129738.00093359035.\u001b[0m\n",
      "\u001b[32m[I 2021-11-25 02:03:41,429]\u001b[0m Trial 42 finished with value: -129754.7221908299 and parameters: {'alpha': 0.44507159684437886, 'l1_ratio': 0.3624938995780427, 'n_features': 21}. Best is trial 22 with value: -129738.00093359035.\u001b[0m\n",
      "\u001b[32m[I 2021-11-25 02:03:42,813]\u001b[0m Trial 43 finished with value: -129752.73074231853 and parameters: {'alpha': 0.6534581782617299, 'l1_ratio': 0.23331941553685864, 'n_features': 19}. Best is trial 22 with value: -129738.00093359035.\u001b[0m\n",
      "\u001b[32m[I 2021-11-25 02:03:44,232]\u001b[0m Trial 44 finished with value: -129738.00093359035 and parameters: {'alpha': 0.7825737431720137, 'l1_ratio': 0.8842905738951786, 'n_features': 20}. Best is trial 22 with value: -129738.00093359035.\u001b[0m\n",
      "\u001b[32m[I 2021-11-25 02:03:45,459]\u001b[0m Trial 45 finished with value: -129772.29605751717 and parameters: {'alpha': 0.8750750093607709, 'l1_ratio': 0.45741733503452703, 'n_features': 18}. Best is trial 22 with value: -129738.00093359035.\u001b[0m\n",
      "\u001b[32m[I 2021-11-25 02:03:46,907]\u001b[0m Trial 46 finished with value: -129754.7221908299 and parameters: {'alpha': 0.5617027437757774, 'l1_ratio': 0.7482960324105242, 'n_features': 21}. Best is trial 22 with value: -129738.00093359035.\u001b[0m\n",
      "\u001b[32m[I 2021-11-25 02:03:47,829]\u001b[0m Trial 47 finished with value: -130500.32053305344 and parameters: {'alpha': 0.4804669115565927, 'l1_ratio': 0.8520029939176234, 'n_features': 13}. Best is trial 22 with value: -129738.00093359035.\u001b[0m\n",
      "\u001b[32m[I 2021-11-25 02:03:48,529]\u001b[0m Trial 48 finished with value: -134092.41417761883 and parameters: {'alpha': 0.6869845947888642, 'l1_ratio': 0.9974698284809735, 'n_features': 10}. Best is trial 22 with value: -129738.00093359035.\u001b[0m\n",
      "\u001b[32m[I 2021-11-25 02:03:49,853]\u001b[0m Trial 49 finished with value: -129752.73074231853 and parameters: {'alpha': 0.11196127773788583, 'l1_ratio': 0.8418860681947796, 'n_features': 19}. Best is trial 22 with value: -129738.00093359035.\u001b[0m\n",
      "\u001b[32m[I 2021-11-25 02:03:51,282]\u001b[0m Trial 50 finished with value: -129754.7221908299 and parameters: {'alpha': 0.785701310422825, 'l1_ratio': 0.09941750363166751, 'n_features': 21}. Best is trial 22 with value: -129738.00093359035.\u001b[0m\n",
      "\u001b[32m[I 2021-11-25 02:03:52,654]\u001b[0m Trial 51 finished with value: -129738.00093359035 and parameters: {'alpha': 0.5216375229175645, 'l1_ratio': 0.6124187967166841, 'n_features': 20}. Best is trial 22 with value: -129738.00093359035.\u001b[0m\n",
      "\u001b[32m[I 2021-11-25 02:03:54,034]\u001b[0m Trial 52 finished with value: -129738.00093359035 and parameters: {'alpha': 0.7917004785637288, 'l1_ratio': 0.8927384246101009, 'n_features': 20}. Best is trial 22 with value: -129738.00093359035.\u001b[0m\n",
      "\u001b[32m[I 2021-11-25 02:03:55,307]\u001b[0m Trial 53 finished with value: -129752.73074231853 and parameters: {'alpha': 0.9738432889210852, 'l1_ratio': 0.7321089398672821, 'n_features': 19}. Best is trial 22 with value: -129738.00093359035.\u001b[0m\n",
      "\u001b[32m[I 2021-11-25 02:03:56,798]\u001b[0m Trial 54 finished with value: -129754.7221908299 and parameters: {'alpha': 0.573679090475803, 'l1_ratio': 0.8211412687629196, 'n_features': 21}. Best is trial 22 with value: -129738.00093359035.\u001b[0m\n",
      "\u001b[32m[I 2021-11-25 02:03:58,168]\u001b[0m Trial 55 finished with value: -129752.73074231853 and parameters: {'alpha': 0.6347854927699035, 'l1_ratio': 0.2655250560046609, 'n_features': 19}. Best is trial 22 with value: -129738.00093359035.\u001b[0m\n",
      "\u001b[32m[I 2021-11-25 02:03:59,559]\u001b[0m Trial 56 finished with value: -129738.00093359035 and parameters: {'alpha': 0.48360286641675476, 'l1_ratio': 0.7041660422262872, 'n_features': 20}. Best is trial 22 with value: -129738.00093359035.\u001b[0m\n",
      "\u001b[32m[I 2021-11-25 02:04:00,952]\u001b[0m Trial 57 finished with value: -129738.00093359035 and parameters: {'alpha': 0.40240006445095444, 'l1_ratio': 0.9421326580259458, 'n_features': 20}. Best is trial 22 with value: -129738.00093359035.\u001b[0m\n",
      "\u001b[32m[I 2021-11-25 02:04:02,164]\u001b[0m Trial 58 finished with value: -129772.29605751717 and parameters: {'alpha': 0.3965553703770782, 'l1_ratio': 0.9507838443743479, 'n_features': 18}. Best is trial 22 with value: -129738.00093359035.\u001b[0m\n",
      "\u001b[32m[I 2021-11-25 02:04:03,457]\u001b[0m Trial 59 finished with value: -129752.73074231853 and parameters: {'alpha': 0.7007843001430222, 'l1_ratio': 0.5606668900507586, 'n_features': 19}. Best is trial 22 with value: -129738.00093359035.\u001b[0m\n",
      "\u001b[32m[I 2021-11-25 02:04:04,930]\u001b[0m Trial 60 finished with value: -129754.7221908299 and parameters: {'alpha': 0.857651139390654, 'l1_ratio': 0.47270760639183046, 'n_features': 21}. Best is trial 22 with value: -129738.00093359035.\u001b[0m\n",
      "\u001b[32m[I 2021-11-25 02:04:06,307]\u001b[0m Trial 61 finished with value: -129738.00093359035 and parameters: {'alpha': 0.9187027005736801, 'l1_ratio': 0.3995443581514734, 'n_features': 20}. Best is trial 22 with value: -129738.00093359035.\u001b[0m\n",
      "\u001b[32m[I 2021-11-25 02:04:07,125]\u001b[0m Trial 62 finished with value: -134093.64771499374 and parameters: {'alpha': 0.2670164569746865, 'l1_ratio': 0.9329047749068413, 'n_features': 11}. Best is trial 22 with value: -129738.00093359035.\u001b[0m\n",
      "\u001b[32m[I 2021-11-25 02:04:08,482]\u001b[0m Trial 63 finished with value: -129738.00093359035 and parameters: {'alpha': 0.9904273584954507, 'l1_ratio': 0.4288084220895493, 'n_features': 20}. Best is trial 22 with value: -129738.00093359035.\u001b[0m\n",
      "\u001b[32m[I 2021-11-25 02:04:09,661]\u001b[0m Trial 64 finished with value: -129767.47261658136 and parameters: {'alpha': 0.5219635448641647, 'l1_ratio': 0.9762129877331298, 'n_features': 17}. Best is trial 22 with value: -129738.00093359035.\u001b[0m\n",
      "\u001b[32m[I 2021-11-25 02:04:11,031]\u001b[0m Trial 65 finished with value: -129738.00093359035 and parameters: {'alpha': 0.9925788397741981, 'l1_ratio': 0.8911958598777894, 'n_features': 20}. Best is trial 22 with value: -129738.00093359035.\u001b[0m\n",
      "\u001b[32m[I 2021-11-25 02:04:12,340]\u001b[0m Trial 66 finished with value: -129752.73074231853 and parameters: {'alpha': 0.5539378858648779, 'l1_ratio': 0.8159815924501154, 'n_features': 19}. Best is trial 22 with value: -129738.00093359035.\u001b[0m\n",
      "\u001b[32m[I 2021-11-25 02:04:13,825]\u001b[0m Trial 67 finished with value: -129754.7221908299 and parameters: {'alpha': 0.41582575661499044, 'l1_ratio': 0.7196283649048137, 'n_features': 21}. Best is trial 22 with value: -129738.00093359035.\u001b[0m\n",
      "\u001b[32m[I 2021-11-25 02:04:15,189]\u001b[0m Trial 68 finished with value: -129738.00093359035 and parameters: {'alpha': 0.4838600639973891, 'l1_ratio': 0.7640166588863113, 'n_features': 20}. Best is trial 22 with value: -129738.00093359035.\u001b[0m\n"
     ]
    },
    {
     "name": "stderr",
     "output_type": "stream",
     "text": [
      "\u001b[32m[I 2021-11-25 02:04:16,657]\u001b[0m Trial 69 finished with value: -129754.7221908299 and parameters: {'alpha': 0.3611435347697475, 'l1_ratio': 0.6343761476668652, 'n_features': 21}. Best is trial 22 with value: -129738.00093359035.\u001b[0m\n",
      "\u001b[32m[I 2021-11-25 02:04:17,832]\u001b[0m Trial 70 finished with value: -130465.64301828932 and parameters: {'alpha': 0.4989943356344818, 'l1_ratio': 0.8701826835394787, 'n_features': 16}. Best is trial 22 with value: -129738.00093359035.\u001b[0m\n",
      "\u001b[32m[I 2021-11-25 02:04:19,246]\u001b[0m Trial 71 finished with value: -129738.00093359035 and parameters: {'alpha': 0.46102858832735083, 'l1_ratio': 0.6655516311321864, 'n_features': 20}. Best is trial 22 with value: -129738.00093359035.\u001b[0m\n",
      "\u001b[32m[I 2021-11-25 02:04:20,593]\u001b[0m Trial 72 finished with value: -129752.73074231853 and parameters: {'alpha': 0.5927339062980397, 'l1_ratio': 0.6349349891262572, 'n_features': 19}. Best is trial 22 with value: -129738.00093359035.\u001b[0m\n",
      "\u001b[32m[I 2021-11-25 02:04:21,997]\u001b[0m Trial 73 finished with value: -129738.00093359035 and parameters: {'alpha': 0.9408248070781593, 'l1_ratio': 0.4962330374112573, 'n_features': 20}. Best is trial 22 with value: -129738.00093359035.\u001b[0m\n",
      "\u001b[32m[I 2021-11-25 02:04:23,306]\u001b[0m Trial 74 finished with value: -129752.73074231853 and parameters: {'alpha': 0.5384276936349217, 'l1_ratio': 0.909353024918594, 'n_features': 19}. Best is trial 22 with value: -129738.00093359035.\u001b[0m\n",
      "\u001b[32m[I 2021-11-25 02:04:24,802]\u001b[0m Trial 75 finished with value: -129754.7221908299 and parameters: {'alpha': 0.9383596509920183, 'l1_ratio': 0.3294698207272666, 'n_features': 21}. Best is trial 22 with value: -129738.00093359035.\u001b[0m\n",
      "\u001b[32m[I 2021-11-25 02:04:25,945]\u001b[0m Trial 76 finished with value: -130467.48159505348 and parameters: {'alpha': 0.6650776942255858, 'l1_ratio': 0.557056232292937, 'n_features': 15}. Best is trial 22 with value: -129738.00093359035.\u001b[0m\n",
      "\u001b[32m[I 2021-11-25 02:04:27,315]\u001b[0m Trial 77 finished with value: -129738.00093359035 and parameters: {'alpha': 0.5857780332606894, 'l1_ratio': 0.7052771461649314, 'n_features': 20}. Best is trial 22 with value: -129738.00093359035.\u001b[0m\n",
      "\u001b[32m[I 2021-11-25 02:04:28,711]\u001b[0m Trial 78 finished with value: -129738.00093359035 and parameters: {'alpha': 0.6273668100396881, 'l1_ratio': 0.42464935670454396, 'n_features': 20}. Best is trial 22 with value: -129738.00093359035.\u001b[0m\n",
      "\u001b[32m[I 2021-11-25 02:04:29,996]\u001b[0m Trial 79 finished with value: -129772.29605751717 and parameters: {'alpha': 0.6218546732800224, 'l1_ratio': 0.5204325013373898, 'n_features': 18}. Best is trial 22 with value: -129738.00093359035.\u001b[0m\n",
      "\u001b[32m[I 2021-11-25 02:04:31,436]\u001b[0m Trial 80 finished with value: -129754.7221908299 and parameters: {'alpha': 0.8410275578197045, 'l1_ratio': 0.30782410274715927, 'n_features': 21}. Best is trial 22 with value: -129738.00093359035.\u001b[0m\n",
      "\u001b[32m[I 2021-11-25 02:04:32,835]\u001b[0m Trial 81 finished with value: -129738.00093359035 and parameters: {'alpha': 0.7547541698121062, 'l1_ratio': 0.9598498379891763, 'n_features': 20}. Best is trial 22 with value: -129738.00093359035.\u001b[0m\n",
      "\u001b[32m[I 2021-11-25 02:04:34,115]\u001b[0m Trial 82 finished with value: -129752.73074231853 and parameters: {'alpha': 0.716990726861646, 'l1_ratio': 0.7868501295292271, 'n_features': 19}. Best is trial 22 with value: -129738.00093359035.\u001b[0m\n",
      "\u001b[32m[I 2021-11-25 02:04:35,472]\u001b[0m Trial 83 finished with value: -129738.00093359035 and parameters: {'alpha': 0.7569042237975534, 'l1_ratio': 0.3844521771651421, 'n_features': 20}. Best is trial 22 with value: -129738.00093359035.\u001b[0m\n",
      "\u001b[32m[I 2021-11-25 02:04:36,849]\u001b[0m Trial 84 finished with value: -129738.00093359035 and parameters: {'alpha': 0.3644435711844704, 'l1_ratio': 0.9203342879888176, 'n_features': 20}. Best is trial 22 with value: -129738.00093359035.\u001b[0m\n",
      "\u001b[32m[I 2021-11-25 02:04:38,296]\u001b[0m Trial 85 finished with value: -129754.7221908299 and parameters: {'alpha': 0.36586696076224184, 'l1_ratio': 0.9845778048932129, 'n_features': 21}. Best is trial 22 with value: -129738.00093359035.\u001b[0m\n",
      "\u001b[32m[I 2021-11-25 02:04:39,584]\u001b[0m Trial 86 finished with value: -129752.73074231853 and parameters: {'alpha': 0.9842110881521672, 'l1_ratio': 0.6043371983713467, 'n_features': 19}. Best is trial 22 with value: -129738.00093359035.\u001b[0m\n",
      "\u001b[32m[I 2021-11-25 02:04:40,981]\u001b[0m Trial 87 finished with value: -129738.00093359035 and parameters: {'alpha': 0.5196936304864535, 'l1_ratio': 0.8492001237462002, 'n_features': 20}. Best is trial 22 with value: -129738.00093359035.\u001b[0m\n",
      "\u001b[32m[I 2021-11-25 02:04:42,346]\u001b[0m Trial 88 finished with value: -129738.00093359035 and parameters: {'alpha': 0.5270274317711673, 'l1_ratio': 0.8765025946639138, 'n_features': 20}. Best is trial 22 with value: -129738.00093359035.\u001b[0m\n",
      "\u001b[32m[I 2021-11-25 02:04:43,655]\u001b[0m Trial 89 finished with value: -129752.73074231853 and parameters: {'alpha': 0.8000525371120257, 'l1_ratio': 0.8147497157743147, 'n_features': 19}. Best is trial 22 with value: -129738.00093359035.\u001b[0m\n",
      "\u001b[32m[I 2021-11-25 02:04:45,093]\u001b[0m Trial 90 finished with value: -129754.7221908299 and parameters: {'alpha': 0.8835008687132323, 'l1_ratio': 0.34436618117925183, 'n_features': 21}. Best is trial 22 with value: -129738.00093359035.\u001b[0m\n",
      "\u001b[32m[I 2021-11-25 02:04:46,455]\u001b[0m Trial 91 finished with value: -129738.00093359035 and parameters: {'alpha': 0.42715390458909486, 'l1_ratio': 0.7564280753659652, 'n_features': 20}. Best is trial 22 with value: -129738.00093359035.\u001b[0m\n",
      "\u001b[32m[I 2021-11-25 02:04:47,852]\u001b[0m Trial 92 finished with value: -129738.00093359035 and parameters: {'alpha': 0.5779484492987892, 'l1_ratio': 0.7591156327265958, 'n_features': 20}. Best is trial 22 with value: -129738.00093359035.\u001b[0m\n",
      "\u001b[32m[I 2021-11-25 02:04:49,227]\u001b[0m Trial 93 finished with value: -129738.00093359035 and parameters: {'alpha': 0.46904202412881624, 'l1_ratio': 0.6932319774718079, 'n_features': 20}. Best is trial 22 with value: -129738.00093359035.\u001b[0m\n",
      "\u001b[32m[I 2021-11-25 02:04:50,705]\u001b[0m Trial 94 finished with value: -129754.7221908299 and parameters: {'alpha': 0.45674587762205254, 'l1_ratio': 0.8310265043226361, 'n_features': 21}. Best is trial 22 with value: -129738.00093359035.\u001b[0m\n",
      "\u001b[32m[I 2021-11-25 02:04:52,027]\u001b[0m Trial 95 finished with value: -129752.73074231853 and parameters: {'alpha': 0.7455032758332204, 'l1_ratio': 0.9564908454938982, 'n_features': 19}. Best is trial 22 with value: -129738.00093359035.\u001b[0m\n",
      "\u001b[32m[I 2021-11-25 02:04:53,427]\u001b[0m Trial 96 finished with value: -129738.00093359035 and parameters: {'alpha': 0.8941569275782634, 'l1_ratio': 0.9156102185287366, 'n_features': 20}. Best is trial 22 with value: -129738.00093359035.\u001b[0m\n",
      "\u001b[32m[I 2021-11-25 02:04:54,924]\u001b[0m Trial 97 finished with value: -129754.7221908299 and parameters: {'alpha': 0.8475762939198992, 'l1_ratio': 0.26861156084594917, 'n_features': 21}. Best is trial 22 with value: -129738.00093359035.\u001b[0m\n",
      "\u001b[32m[I 2021-11-25 02:04:56,223]\u001b[0m Trial 98 finished with value: -129752.73074231853 and parameters: {'alpha': 0.33579779282025857, 'l1_ratio': 0.9302570488678098, 'n_features': 19}. Best is trial 22 with value: -129738.00093359035.\u001b[0m\n",
      "\u001b[32m[I 2021-11-25 02:04:57,662]\u001b[0m Trial 99 finished with value: -129754.7221908299 and parameters: {'alpha': 0.9833273087511089, 'l1_ratio': 0.449108733620818, 'n_features': 21}. Best is trial 22 with value: -129738.00093359035.\u001b[0m\n"
     ]
    }
   ],
   "source": [
    "sampler = TPESampler(seed=42)\n",
    "direction = \"maximize\"\n",
    "study = optuna.create_study(sampler=sampler, direction=direction)\n",
    "study.optimize(\n",
    "    objective,\n",
    "    n_trials=100,\n",
    "    timeout=3600,\n",
    ")"
   ]
  },
  {
   "cell_type": "code",
   "execution_count": 21,
   "id": "23301033",
   "metadata": {
    "scrolled": true
   },
   "outputs": [
    {
     "data": {
      "text/plain": [
       "{'alpha': 0.885695762228656, 'l1_ratio': 0.4081196617917175, 'n_features': 20}"
      ]
     },
     "execution_count": 21,
     "metadata": {},
     "output_type": "execute_result"
    }
   ],
   "source": [
    "study.best_params"
   ]
  },
  {
   "cell_type": "code",
   "execution_count": 22,
   "id": "5c08bb6e",
   "metadata": {},
   "outputs": [
    {
     "name": "stdout",
     "output_type": "stream",
     "text": [
      "Wall time: 1.37 s\n"
     ]
    },
    {
     "data": {
      "text/plain": [
       "-129842.59349359092"
      ]
     },
     "execution_count": 22,
     "metadata": {},
     "output_type": "execute_result"
    }
   ],
   "source": [
    "%%time\n",
    "\n",
    "model = make_pipeline(\n",
    "    StandardScaler(),\n",
    "    ElasticNet(alpha=0.885695762228656, l1_ratio=0.4081196617917175),\n",
    ")\n",
    "\n",
    "cv_scores = cross_val_score(\n",
    "    model, \n",
    "    X_train.iloc[:, :20], \n",
    "    y_train, \n",
    "    scoring=\"neg_root_mean_squared_error\", \n",
    "    cv=5\n",
    ")\n",
    "\n",
    "cv_scores.mean()"
   ]
  }
 ],
 "metadata": {
  "kernelspec": {
   "display_name": "Python 3 (ipykernel)",
   "language": "python",
   "name": "python3"
  },
  "language_info": {
   "codemirror_mode": {
    "name": "ipython",
    "version": 3
   },
   "file_extension": ".py",
   "mimetype": "text/x-python",
   "name": "python",
   "nbconvert_exporter": "python",
   "pygments_lexer": "ipython3",
   "version": "3.8.0"
  }
 },
 "nbformat": 4,
 "nbformat_minor": 5
}
