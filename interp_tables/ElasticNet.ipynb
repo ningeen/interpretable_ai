{
 "cells": [
  {
   "cell_type": "code",
   "execution_count": 1,
   "id": "48e3e476",
   "metadata": {},
   "outputs": [],
   "source": [
    "import numpy as np\n",
    "import pandas as pd\n",
    "from sklearn.preprocessing import LabelEncoder\n",
    "import matplotlib.pyplot as plt"
   ]
  },
  {
   "cell_type": "code",
   "execution_count": 2,
   "id": "17904296",
   "metadata": {},
   "outputs": [
    {
     "data": {
      "text/plain": [
       "(279792, 23)"
      ]
     },
     "execution_count": 2,
     "metadata": {},
     "output_type": "execute_result"
    }
   ],
   "source": [
    "dataset = pd.read_csv(\"../data/train_simple.gzip\", compression=\"gzip\")\n",
    "dataset.shape"
   ]
  },
  {
   "cell_type": "code",
   "execution_count": 3,
   "id": "acc8a06c",
   "metadata": {},
   "outputs": [],
   "source": [
    "cat_cols = [\"region\", \"osm_city_nearest_name\", \"realty_type\"]\n",
    "\n",
    "for col in cat_cols:\n",
    "    le = LabelEncoder()\n",
    "    dataset[col] = le.fit_transform(dataset[col])"
   ]
  },
  {
   "cell_type": "code",
   "execution_count": 4,
   "id": "33dbf596",
   "metadata": {},
   "outputs": [],
   "source": [
    "dataset[\"floor\"] = dataset[\"floor\"].fillna(1)\n",
    "dataset[\"city_population\"] = dataset[\"city_population\"].fillna(0)"
   ]
  },
  {
   "cell_type": "code",
   "execution_count": 5,
   "id": "01d21b76",
   "metadata": {},
   "outputs": [],
   "source": [
    "dataset[\"price_type\"] = dataset[\"price_type\"].astype(bool)"
   ]
  },
  {
   "cell_type": "code",
   "execution_count": 6,
   "id": "f687569c",
   "metadata": {},
   "outputs": [
    {
     "data": {
      "text/plain": [
       "0"
      ]
     },
     "execution_count": 6,
     "metadata": {},
     "output_type": "execute_result"
    }
   ],
   "source": [
    "dataset.isna().sum().sum()"
   ]
  },
  {
   "cell_type": "markdown",
   "id": "b1dca4fc",
   "metadata": {},
   "source": [
    "# Split data"
   ]
  },
  {
   "cell_type": "code",
   "execution_count": 7,
   "id": "8d7dadef",
   "metadata": {},
   "outputs": [],
   "source": [
    "target = \"per_square_meter_price\"\n",
    "treatment = \"price_type\""
   ]
  },
  {
   "cell_type": "code",
   "execution_count": 8,
   "id": "ef14bde2",
   "metadata": {},
   "outputs": [],
   "source": [
    "feature_columns = [\n",
    "    'city_population',                  # население города\n",
    "    'total_square',                     # Общая площадь\n",
    "    'osm_catering_points_in_0.005',     # Кол-во заведений общепита в радиусе 500 метров, OpenStreetMap\n",
    "    'region',                           # Регион\n",
    "    'floor',                            # Этаж\n",
    "    'realty_type',                      # Тип недвижимости (закодирован)\n",
    "    'osm_crossing_closest_dist',        # Расстояние до ближайшего пешеходного перехода\n",
    "    'osm_city_nearest_name',            # Название ближайшего города по OpenStreetMap\n",
    "    'osm_subway_closest_dist',          # Расстояние до ближайщей станции метро, OpenStreetMap\n",
    "    'reform_mean_floor_count_1000',     # Средняя этажность домов в радиусе 1 км по истоинчку РеформаЖКХ\n",
    "    'osm_transport_stop_closest_dist',  # Расстояние до ближайщей остановки общественного транспорта, OpenStreetMap\n",
    "    'osm_amenity_points_in_0.001',      # Кол-во объектов связанных с удобством в радиусе 100 метров, OpenStreetMap\n",
    "    'osm_city_nearest_population',      # Население ближайшего города по OpenStreetMap\n",
    "    'lng',                              # Долгота\n",
    "    'osm_city_closest_dist',            # Расстояние до центра ближайшего города, OpenStreetMap\n",
    "    'osm_crossing_points_in_0.005',     # Кол-во пешеходных переходов в радиусе 500 метров, OpenStreetMap\n",
    "    'floor_type',                       # тип этажа\n",
    "    'lat',                              # Широта\n",
    "    'reform_mean_year_building_500',    # Среднее значение года постройки домов в радиусе 500 метров по истоинчку РеформаЖКХ\n",
    "    'osm_culture_points_in_0.005',      # Кол-во объектов культуры в радиусе 500 метров, OpenStreetMap\n",
    "    'reform_house_population_500',      # Коэффициент количества проживающих людей в радиусе 500 метров по источнику РеформаЖКХ\n",
    "]"
   ]
  },
  {
   "cell_type": "code",
   "execution_count": 9,
   "id": "095f1fcc",
   "metadata": {},
   "outputs": [
    {
     "data": {
      "text/plain": [
       "((275299, 21), (4493, 21))"
      ]
     },
     "execution_count": 9,
     "metadata": {},
     "output_type": "execute_result"
    }
   ],
   "source": [
    "X_train = dataset.loc[dataset[treatment] == 0, feature_columns]\n",
    "X_test = dataset.loc[dataset[treatment] == 1, feature_columns]\n",
    "\n",
    "y_train = dataset.loc[dataset[treatment] == 0, target]\n",
    "y_test = dataset.loc[dataset[treatment] == 1, target]\n",
    "\n",
    "X_train.shape, X_test.shape"
   ]
  },
  {
   "cell_type": "markdown",
   "id": "7b10b2f2",
   "metadata": {},
   "source": [
    "# Elastic log target"
   ]
  },
  {
   "cell_type": "code",
   "execution_count": 22,
   "id": "a1febeed",
   "metadata": {},
   "outputs": [],
   "source": [
    "from sklearn.pipeline import make_pipeline\n",
    "from sklearn.preprocessing import StandardScaler\n",
    "from sklearn.model_selection import cross_val_score\n",
    "from sklearn.linear_model import ElasticNet\n",
    "from sklearn.metrics import mean_squared_error\n",
    "\n",
    "import optuna\n",
    "from optuna.samplers import TPESampler\n",
    "from optuna.study import Study"
   ]
  },
  {
   "cell_type": "code",
   "execution_count": 34,
   "id": "9c538958",
   "metadata": {},
   "outputs": [],
   "source": [
    "from sklearn.neural_network import MLPRegressor\n",
    "from sklearn.metrics import make_scorer"
   ]
  },
  {
   "cell_type": "code",
   "execution_count": 24,
   "id": "3cf0a9eb",
   "metadata": {},
   "outputs": [],
   "source": [
    "def log_rmse(y_true, y_pred):\n",
    "    y_true = np.exp(y_true)\n",
    "    y_pred = np.exp(y_pred)\n",
    "    return np.sqrt(mean_squared_error(y_true, y_pred))\n",
    "\n",
    "lrmse_scorer = make_scorer(log_rmse, greater_is_better=False)"
   ]
  },
  {
   "cell_type": "code",
   "execution_count": 60,
   "id": "16326ef6",
   "metadata": {},
   "outputs": [],
   "source": [
    "y_train_log = np.log(y_train)\n",
    "y_test_log = np.log(y_test)"
   ]
  },
  {
   "cell_type": "code",
   "execution_count": 61,
   "id": "9f920d33",
   "metadata": {},
   "outputs": [],
   "source": [
    "def objective(trial) -> float:\n",
    "    params = {\n",
    "        \"alpha\": trial.suggest_float(\"alpha\", 0.0, 1.0),\n",
    "        \"l1_ratio\": trial.suggest_float(\"l1_ratio\", 0.0, 1.0),\n",
    "    }\n",
    "    \n",
    "    n_features = trial.suggest_int(\"n_features\", 10, len(feature_columns))\n",
    "    \n",
    "    model = make_pipeline(\n",
    "        StandardScaler(),\n",
    "        ElasticNet(),\n",
    "    )\n",
    "\n",
    "    cv_scores = cross_val_score(\n",
    "        model, \n",
    "        X_train.iloc[:, :n_features].values, \n",
    "        y_train_log, \n",
    "        scoring=lrmse_scorer, \n",
    "        cv=5\n",
    "    )\n",
    "    \n",
    "    mean_scores = np.mean(cv_scores)\n",
    "    return mean_scores if not np.isnan(mean_scores) else -10"
   ]
  },
  {
   "cell_type": "code",
   "execution_count": 62,
   "id": "d9fd6d95",
   "metadata": {
    "scrolled": true
   },
   "outputs": [
    {
     "name": "stderr",
     "output_type": "stream",
     "text": [
      "\u001b[32m[I 2021-11-26 01:14:46,877]\u001b[0m A new study created in memory with name: no-name-30316e20-1b85-4dac-b3b8-1614dbd49473\u001b[0m\n",
      "\u001b[32m[I 2021-11-26 01:14:47,884]\u001b[0m Trial 0 finished with value: -175796.6609351745 and parameters: {'alpha': 0.3745401188473625, 'l1_ratio': 0.9507143064099162, 'n_features': 18}. Best is trial 0 with value: -175796.6609351745.\u001b[0m\n",
      "\u001b[32m[I 2021-11-26 01:14:48,617]\u001b[0m Trial 1 finished with value: -176140.92682987527 and parameters: {'alpha': 0.5986584841970366, 'l1_ratio': 0.15601864044243652, 'n_features': 11}. Best is trial 0 with value: -175796.6609351745.\u001b[0m\n",
      "\u001b[32m[I 2021-11-26 01:14:49,591]\u001b[0m Trial 2 finished with value: -175796.6609351745 and parameters: {'alpha': 0.05808361216819946, 'l1_ratio': 0.8661761457749352, 'n_features': 17}. Best is trial 0 with value: -175796.6609351745.\u001b[0m\n",
      "\u001b[32m[I 2021-11-26 01:14:50,735]\u001b[0m Trial 3 finished with value: -175796.6609351745 and parameters: {'alpha': 0.7080725777960455, 'l1_ratio': 0.020584494295802447, 'n_features': 21}. Best is trial 0 with value: -175796.6609351745.\u001b[0m\n",
      "\u001b[32m[I 2021-11-26 01:14:51,516]\u001b[0m Trial 4 finished with value: -176140.92682987527 and parameters: {'alpha': 0.8324426408004217, 'l1_ratio': 0.21233911067827616, 'n_features': 12}. Best is trial 0 with value: -175796.6609351745.\u001b[0m\n",
      "\u001b[32m[I 2021-11-26 01:14:52,491]\u001b[0m Trial 5 finished with value: -175796.6609351745 and parameters: {'alpha': 0.18340450985343382, 'l1_ratio': 0.3042422429595377, 'n_features': 16}. Best is trial 0 with value: -175796.6609351745.\u001b[0m\n",
      "\u001b[32m[I 2021-11-26 01:14:53,429]\u001b[0m Trial 6 finished with value: -175796.6609351745 and parameters: {'alpha': 0.43194501864211576, 'l1_ratio': 0.2912291401980419, 'n_features': 17}. Best is trial 0 with value: -175796.6609351745.\u001b[0m\n",
      "\u001b[32m[I 2021-11-26 01:14:54,290]\u001b[0m Trial 7 finished with value: -175796.6609351745 and parameters: {'alpha': 0.13949386065204183, 'l1_ratio': 0.29214464853521815, 'n_features': 14}. Best is trial 0 with value: -175796.6609351745.\u001b[0m\n",
      "\u001b[32m[I 2021-11-26 01:14:55,039]\u001b[0m Trial 8 finished with value: -176140.92682987527 and parameters: {'alpha': 0.45606998421703593, 'l1_ratio': 0.7851759613930136, 'n_features': 12}. Best is trial 0 with value: -175796.6609351745.\u001b[0m\n",
      "\u001b[32m[I 2021-11-26 01:14:55,666]\u001b[0m Trial 9 finished with value: -176140.92682987527 and parameters: {'alpha': 0.5142344384136116, 'l1_ratio': 0.5924145688620425, 'n_features': 10}. Best is trial 0 with value: -175796.6609351745.\u001b[0m\n",
      "\u001b[32m[I 2021-11-26 01:14:56,784]\u001b[0m Trial 10 finished with value: -175796.6609351745 and parameters: {'alpha': 0.3113453348145481, 'l1_ratio': 0.6843060681479876, 'n_features': 20}. Best is trial 0 with value: -175796.6609351745.\u001b[0m\n",
      "\u001b[32m[I 2021-11-26 01:14:57,767]\u001b[0m Trial 11 finished with value: -175796.6609351745 and parameters: {'alpha': 0.007629510765427776, 'l1_ratio': 0.9900675403074437, 'n_features': 18}. Best is trial 0 with value: -175796.6609351745.\u001b[0m\n",
      "\u001b[32m[I 2021-11-26 01:14:58,835]\u001b[0m Trial 12 finished with value: -175796.6609351745 and parameters: {'alpha': 0.015594799658456227, 'l1_ratio': 0.9857380354329475, 'n_features': 19}. Best is trial 0 with value: -175796.6609351745.\u001b[0m\n",
      "\u001b[32m[I 2021-11-26 01:14:59,780]\u001b[0m Trial 13 finished with value: -175796.6609351745 and parameters: {'alpha': 0.9674983485513796, 'l1_ratio': 0.8306736420228253, 'n_features': 15}. Best is trial 0 with value: -175796.6609351745.\u001b[0m\n",
      "\u001b[32m[I 2021-11-26 01:15:00,789]\u001b[0m Trial 14 finished with value: -175796.6609351745 and parameters: {'alpha': 0.28585430844509907, 'l1_ratio': 0.5009952756566256, 'n_features': 18}. Best is trial 0 with value: -175796.6609351745.\u001b[0m\n",
      "\u001b[32m[I 2021-11-26 01:15:01,653]\u001b[0m Trial 15 finished with value: -175796.6609351745 and parameters: {'alpha': 0.3040213141006643, 'l1_ratio': 0.843788877480604, 'n_features': 14}. Best is trial 0 with value: -175796.6609351745.\u001b[0m\n",
      "\u001b[32m[I 2021-11-26 01:15:02,665]\u001b[0m Trial 16 finished with value: -175796.6609351745 and parameters: {'alpha': 0.13390469085904705, 'l1_ratio': 0.7005484500962171, 'n_features': 16}. Best is trial 0 with value: -175796.6609351745.\u001b[0m\n",
      "\u001b[32m[I 2021-11-26 01:15:03,739]\u001b[0m Trial 17 finished with value: -175796.6609351745 and parameters: {'alpha': 0.32176717760026485, 'l1_ratio': 0.4621904820664939, 'n_features': 19}. Best is trial 0 with value: -175796.6609351745.\u001b[0m\n",
      "\u001b[32m[I 2021-11-26 01:15:04,629]\u001b[0m Trial 18 finished with value: -175796.6609351745 and parameters: {'alpha': 0.6276429452559498, 'l1_ratio': 0.8877795425395276, 'n_features': 14}. Best is trial 0 with value: -175796.6609351745.\u001b[0m\n",
      "\u001b[32m[I 2021-11-26 01:15:05,620]\u001b[0m Trial 19 finished with value: -175796.6609351745 and parameters: {'alpha': 0.177163545796278, 'l1_ratio': 0.7292802974153301, 'n_features': 16}. Best is trial 0 with value: -175796.6609351745.\u001b[0m\n",
      "\u001b[32m[I 2021-11-26 01:15:06,714]\u001b[0m Trial 20 finished with value: -175796.6609351745 and parameters: {'alpha': 0.40785883195495476, 'l1_ratio': 0.45893694632494275, 'n_features': 20}. Best is trial 0 with value: -175796.6609351745.\u001b[0m\n",
      "\u001b[32m[I 2021-11-26 01:15:07,593]\u001b[0m Trial 21 finished with value: -175796.6609351745 and parameters: {'alpha': 0.5957919235027809, 'l1_ratio': 0.4631018115753352, 'n_features': 14}. Best is trial 0 with value: -175796.6609351745.\u001b[0m\n",
      "\u001b[32m[I 2021-11-26 01:15:08,530]\u001b[0m Trial 22 finished with value: -175796.6609351745 and parameters: {'alpha': 0.7154413743874697, 'l1_ratio': 0.9319916236818385, 'n_features': 15}. Best is trial 0 with value: -175796.6609351745.\u001b[0m\n",
      "\u001b[32m[I 2021-11-26 01:15:09,644]\u001b[0m Trial 23 finished with value: -175796.6609351745 and parameters: {'alpha': 0.37325834322568335, 'l1_ratio': 0.7397516781383211, 'n_features': 20}. Best is trial 0 with value: -175796.6609351745.\u001b[0m\n",
      "\u001b[32m[I 2021-11-26 01:15:10,769]\u001b[0m Trial 24 finished with value: -175796.6609351745 and parameters: {'alpha': 0.551307300510272, 'l1_ratio': 0.4314786931761889, 'n_features': 21}. Best is trial 0 with value: -175796.6609351745.\u001b[0m\n",
      "\u001b[32m[I 2021-11-26 01:15:11,564]\u001b[0m Trial 25 finished with value: -175796.6609351745 and parameters: {'alpha': 0.7446787215077988, 'l1_ratio': 0.5958747576315144, 'n_features': 13}. Best is trial 0 with value: -175796.6609351745.\u001b[0m\n",
      "\u001b[32m[I 2021-11-26 01:15:12,526]\u001b[0m Trial 26 finished with value: -175796.6609351745 and parameters: {'alpha': 0.9375611593660229, 'l1_ratio': 0.9326297058877336, 'n_features': 18}. Best is trial 0 with value: -175796.6609351745.\u001b[0m\n",
      "\u001b[32m[I 2021-11-26 01:15:13,617]\u001b[0m Trial 27 finished with value: -175796.6609351745 and parameters: {'alpha': 0.520057952470917, 'l1_ratio': 0.5698976236712893, 'n_features': 21}. Best is trial 0 with value: -175796.6609351745.\u001b[0m\n",
      "\u001b[32m[I 2021-11-26 01:15:14,428]\u001b[0m Trial 28 finished with value: -175796.6609351745 and parameters: {'alpha': 0.7874069077360872, 'l1_ratio': 0.36867555246667677, 'n_features': 13}. Best is trial 0 with value: -175796.6609351745.\u001b[0m\n",
      "\u001b[32m[I 2021-11-26 01:15:15,374]\u001b[0m Trial 29 finished with value: -175796.6609351745 and parameters: {'alpha': 0.9938655219215833, 'l1_ratio': 0.6293286660298154, 'n_features': 18}. Best is trial 0 with value: -175796.6609351745.\u001b[0m\n",
      "\u001b[32m[I 2021-11-26 01:15:16,387]\u001b[0m Trial 30 finished with value: -175796.6609351745 and parameters: {'alpha': 0.8947939666251825, 'l1_ratio': 0.9254448272600315, 'n_features': 19}. Best is trial 0 with value: -175796.6609351745.\u001b[0m\n",
      "\u001b[32m[I 2021-11-26 01:15:17,277]\u001b[0m Trial 31 finished with value: -175796.6609351745 and parameters: {'alpha': 0.8091336413900507, 'l1_ratio': 0.37764032136230163, 'n_features': 17}. Best is trial 0 with value: -175796.6609351745.\u001b[0m\n",
      "\u001b[32m[I 2021-11-26 01:15:17,910]\u001b[0m Trial 32 finished with value: -176140.92682987527 and parameters: {'alpha': 0.9874992259137754, 'l1_ratio': 0.5681020277932037, 'n_features': 10}. Best is trial 0 with value: -175796.6609351745.\u001b[0m\n",
      "\u001b[32m[I 2021-11-26 01:15:18,935]\u001b[0m Trial 33 finished with value: -175796.6609351745 and parameters: {'alpha': 0.8887088191477176, 'l1_ratio': 0.04196512258166152, 'n_features': 19}. Best is trial 0 with value: -175796.6609351745.\u001b[0m\n",
      "\u001b[32m[I 2021-11-26 01:15:19,850]\u001b[0m Trial 34 finished with value: -175796.6609351745 and parameters: {'alpha': 0.8742317790551548, 'l1_ratio': 0.20292877469945036, 'n_features': 17}. Best is trial 0 with value: -175796.6609351745.\u001b[0m\n"
     ]
    },
    {
     "name": "stderr",
     "output_type": "stream",
     "text": [
      "\u001b[32m[I 2021-11-26 01:15:20,748]\u001b[0m Trial 35 finished with value: -175796.6609351745 and parameters: {'alpha': 0.9026571487153404, 'l1_ratio': 0.8029127610900822, 'n_features': 17}. Best is trial 0 with value: -175796.6609351745.\u001b[0m\n",
      "\u001b[32m[I 2021-11-26 01:15:21,693]\u001b[0m Trial 36 finished with value: -175796.6609351745 and parameters: {'alpha': 0.6282020856424965, 'l1_ratio': 0.5235586298415592, 'n_features': 16}. Best is trial 0 with value: -175796.6609351745.\u001b[0m\n",
      "\u001b[32m[I 2021-11-26 01:15:22,612]\u001b[0m Trial 37 finished with value: -175796.6609351745 and parameters: {'alpha': 0.6814869961412247, 'l1_ratio': 0.37946056218135366, 'n_features': 15}. Best is trial 0 with value: -175796.6609351745.\u001b[0m\n",
      "\u001b[32m[I 2021-11-26 01:15:23,658]\u001b[0m Trial 38 finished with value: -175796.6609351745 and parameters: {'alpha': 0.43185778599967695, 'l1_ratio': 0.663524151188571, 'n_features': 20}. Best is trial 0 with value: -175796.6609351745.\u001b[0m\n",
      "\u001b[32m[I 2021-11-26 01:15:24,546]\u001b[0m Trial 39 finished with value: -175796.6609351745 and parameters: {'alpha': 0.3750929084693478, 'l1_ratio': 0.7750852862464951, 'n_features': 15}. Best is trial 0 with value: -175796.6609351745.\u001b[0m\n",
      "\u001b[32m[I 2021-11-26 01:15:25,355]\u001b[0m Trial 40 finished with value: -175796.6609351745 and parameters: {'alpha': 0.5815114315420047, 'l1_ratio': 0.906561967763501, 'n_features': 13}. Best is trial 0 with value: -175796.6609351745.\u001b[0m\n",
      "\u001b[32m[I 2021-11-26 01:15:26,086]\u001b[0m Trial 41 finished with value: -176140.92682987527 and parameters: {'alpha': 0.7404571089471738, 'l1_ratio': 0.7213334129040971, 'n_features': 12}. Best is trial 0 with value: -175796.6609351745.\u001b[0m\n",
      "\u001b[32m[I 2021-11-26 01:15:27,171]\u001b[0m Trial 42 finished with value: -175796.6609351745 and parameters: {'alpha': 0.6980966400054014, 'l1_ratio': 0.6113807999460775, 'n_features': 21}. Best is trial 0 with value: -175796.6609351745.\u001b[0m\n",
      "\u001b[32m[I 2021-11-26 01:15:28,268]\u001b[0m Trial 43 finished with value: -175796.6609351745 and parameters: {'alpha': 0.24141130243468056, 'l1_ratio': 0.9527562512891049, 'n_features': 21}. Best is trial 0 with value: -175796.6609351745.\u001b[0m\n",
      "\u001b[32m[I 2021-11-26 01:15:29,299]\u001b[0m Trial 44 finished with value: -175796.6609351745 and parameters: {'alpha': 0.48248340196694917, 'l1_ratio': 0.8661190434189705, 'n_features': 20}. Best is trial 0 with value: -175796.6609351745.\u001b[0m\n",
      "\u001b[32m[I 2021-11-26 01:15:30,238]\u001b[0m Trial 45 finished with value: -175796.6609351745 and parameters: {'alpha': 0.3650624066288633, 'l1_ratio': 0.6456925429454705, 'n_features': 18}. Best is trial 0 with value: -175796.6609351745.\u001b[0m\n",
      "\u001b[32m[I 2021-11-26 01:15:31,327]\u001b[0m Trial 46 finished with value: -175796.6609351745 and parameters: {'alpha': 0.5462283336294886, 'l1_ratio': 0.5430327149117552, 'n_features': 21}. Best is trial 0 with value: -175796.6609351745.\u001b[0m\n",
      "\u001b[32m[I 2021-11-26 01:15:32,450]\u001b[0m Trial 47 finished with value: -175796.6609351745 and parameters: {'alpha': 0.5254420156264419, 'l1_ratio': 0.33448048069718284, 'n_features': 21}. Best is trial 0 with value: -175796.6609351745.\u001b[0m\n",
      "\u001b[32m[I 2021-11-26 01:15:33,274]\u001b[0m Trial 48 finished with value: -175796.6609351745 and parameters: {'alpha': 0.825927842179432, 'l1_ratio': 0.19856965066410934, 'n_features': 13}. Best is trial 0 with value: -175796.6609351745.\u001b[0m\n",
      "\u001b[32m[I 2021-11-26 01:15:33,970]\u001b[0m Trial 49 finished with value: -176140.92682987527 and parameters: {'alpha': 0.7957330636851919, 'l1_ratio': 0.2662342667040222, 'n_features': 11}. Best is trial 0 with value: -175796.6609351745.\u001b[0m\n",
      "\u001b[32m[I 2021-11-26 01:15:34,973]\u001b[0m Trial 50 finished with value: -175796.6609351745 and parameters: {'alpha': 0.9524666209554382, 'l1_ratio': 0.09941750363166751, 'n_features': 18}. Best is trial 0 with value: -175796.6609351745.\u001b[0m\n",
      "\u001b[32m[I 2021-11-26 01:15:35,982]\u001b[0m Trial 51 finished with value: -175796.6609351745 and parameters: {'alpha': 0.783882917239562, 'l1_ratio': 0.38994237219523586, 'n_features': 19}. Best is trial 0 with value: -175796.6609351745.\u001b[0m\n",
      "\u001b[32m[I 2021-11-26 01:15:36,922]\u001b[0m Trial 52 finished with value: -175796.6609351745 and parameters: {'alpha': 0.9345308032614663, 'l1_ratio': 0.9994134940876852, 'n_features': 18}. Best is trial 0 with value: -175796.6609351745.\u001b[0m\n",
      "\u001b[32m[I 2021-11-26 01:15:37,807]\u001b[0m Trial 53 finished with value: -175796.6609351745 and parameters: {'alpha': 0.8615106344550678, 'l1_ratio': 0.3670926344888102, 'n_features': 17}. Best is trial 0 with value: -175796.6609351745.\u001b[0m\n",
      "\u001b[32m[I 2021-11-26 01:15:38,817]\u001b[0m Trial 54 finished with value: -175796.6609351745 and parameters: {'alpha': 0.8239417800669225, 'l1_ratio': 0.3305017736280192, 'n_features': 19}. Best is trial 0 with value: -175796.6609351745.\u001b[0m\n",
      "\u001b[32m[I 2021-11-26 01:15:39,802]\u001b[0m Trial 55 finished with value: -175796.6609351745 and parameters: {'alpha': 0.904888765671845, 'l1_ratio': 0.003851365407247863, 'n_features': 19}. Best is trial 0 with value: -175796.6609351745.\u001b[0m\n",
      "\u001b[32m[I 2021-11-26 01:15:40,784]\u001b[0m Trial 56 finished with value: -175796.6609351745 and parameters: {'alpha': 0.8663763272150811, 'l1_ratio': 0.13227401461922417, 'n_features': 19}. Best is trial 0 with value: -175796.6609351745.\u001b[0m\n",
      "\u001b[32m[I 2021-11-26 01:15:41,689]\u001b[0m Trial 57 finished with value: -175796.6609351745 and parameters: {'alpha': 0.9861355217924125, 'l1_ratio': 0.04672933626913103, 'n_features': 17}. Best is trial 0 with value: -175796.6609351745.\u001b[0m\n",
      "\u001b[32m[I 2021-11-26 01:15:42,652]\u001b[0m Trial 58 finished with value: -175796.6609351745 and parameters: {'alpha': 0.8735794197283909, 'l1_ratio': 0.058864972737399796, 'n_features': 16}. Best is trial 0 with value: -175796.6609351745.\u001b[0m\n",
      "\u001b[32m[I 2021-11-26 01:15:43,556]\u001b[0m Trial 59 finished with value: -175796.6609351745 and parameters: {'alpha': 0.8975462758218475, 'l1_ratio': 0.2269847737644084, 'n_features': 17}. Best is trial 0 with value: -175796.6609351745.\u001b[0m\n",
      "\u001b[32m[I 2021-11-26 01:15:44,459]\u001b[0m Trial 60 finished with value: -175796.6609351745 and parameters: {'alpha': 0.9131496198778631, 'l1_ratio': 0.8282535614893697, 'n_features': 17}. Best is trial 0 with value: -175796.6609351745.\u001b[0m\n",
      "\u001b[32m[I 2021-11-26 01:15:45,404]\u001b[0m Trial 61 finished with value: -175796.6609351745 and parameters: {'alpha': 0.6744459939150067, 'l1_ratio': 0.17588072958915088, 'n_features': 16}. Best is trial 0 with value: -175796.6609351745.\u001b[0m\n",
      "\u001b[32m[I 2021-11-26 01:15:46,368]\u001b[0m Trial 62 finished with value: -175796.6609351745 and parameters: {'alpha': 0.6703372564836593, 'l1_ratio': 0.25390791695275683, 'n_features': 16}. Best is trial 0 with value: -175796.6609351745.\u001b[0m\n",
      "\u001b[32m[I 2021-11-26 01:15:47,272]\u001b[0m Trial 63 finished with value: -175796.6609351745 and parameters: {'alpha': 0.4492770046236554, 'l1_ratio': 0.5114260506515649, 'n_features': 15}. Best is trial 0 with value: -175796.6609351745.\u001b[0m\n",
      "\u001b[32m[I 2021-11-26 01:15:48,173]\u001b[0m Trial 64 finished with value: -175796.6609351745 and parameters: {'alpha': 0.26455318783752513, 'l1_ratio': 0.6669161268116759, 'n_features': 15}. Best is trial 0 with value: -175796.6609351745.\u001b[0m\n",
      "\u001b[32m[I 2021-11-26 01:15:49,217]\u001b[0m Trial 65 finished with value: -175796.6609351745 and parameters: {'alpha': 0.6395354677305853, 'l1_ratio': 0.7985205891571735, 'n_features': 20}. Best is trial 0 with value: -175796.6609351745.\u001b[0m\n",
      "\u001b[32m[I 2021-11-26 01:15:50,120]\u001b[0m Trial 66 finished with value: -175796.6609351745 and parameters: {'alpha': 0.41393330520507454, 'l1_ratio': 0.7459035742272871, 'n_features': 15}. Best is trial 0 with value: -175796.6609351745.\u001b[0m\n",
      "\u001b[32m[I 2021-11-26 01:15:50,958]\u001b[0m Trial 67 finished with value: -175796.6609351745 and parameters: {'alpha': 0.5873343488710119, 'l1_ratio': 0.7724971850630252, 'n_features': 14}. Best is trial 0 with value: -175796.6609351745.\u001b[0m\n",
      "\u001b[32m[I 2021-11-26 01:15:51,653]\u001b[0m Trial 68 finished with value: -176140.92682987527 and parameters: {'alpha': 0.34861629577782627, 'l1_ratio': 0.8852525476744599, 'n_features': 11}. Best is trial 0 with value: -175796.6609351745.\u001b[0m\n",
      "\u001b[32m[I 2021-11-26 01:15:52,566]\u001b[0m Trial 69 finished with value: -175796.6609351745 and parameters: {'alpha': 0.4054525546536717, 'l1_ratio': 0.8036545243181467, 'n_features': 15}. Best is trial 0 with value: -175796.6609351745.\u001b[0m\n"
     ]
    },
    {
     "name": "stderr",
     "output_type": "stream",
     "text": [
      "\u001b[32m[I 2021-11-26 01:15:53,409]\u001b[0m Trial 70 finished with value: -175796.6609351745 and parameters: {'alpha': 0.5785513489008213, 'l1_ratio': 0.6324740191755416, 'n_features': 14}. Best is trial 0 with value: -175796.6609351745.\u001b[0m\n",
      "\u001b[32m[I 2021-11-26 01:15:54,468]\u001b[0m Trial 71 finished with value: -175796.6609351745 and parameters: {'alpha': 0.22930004024482215, 'l1_ratio': 0.9474541562793227, 'n_features': 20}. Best is trial 0 with value: -175796.6609351745.\u001b[0m\n",
      "\u001b[32m[I 2021-11-26 01:15:55,574]\u001b[0m Trial 72 finished with value: -175796.6609351745 and parameters: {'alpha': 0.10186420320784642, 'l1_ratio': 0.9078611605968363, 'n_features': 21}. Best is trial 0 with value: -175796.6609351745.\u001b[0m\n",
      "\u001b[32m[I 2021-11-26 01:15:56,612]\u001b[0m Trial 73 finished with value: -175796.6609351745 and parameters: {'alpha': 0.5017541027587771, 'l1_ratio': 0.8629729297452161, 'n_features': 20}. Best is trial 0 with value: -175796.6609351745.\u001b[0m\n",
      "\u001b[32m[I 2021-11-26 01:15:57,567]\u001b[0m Trial 74 finished with value: -175796.6609351745 and parameters: {'alpha': 0.9447633080383088, 'l1_ratio': 0.11855440421452484, 'n_features': 18}. Best is trial 0 with value: -175796.6609351745.\u001b[0m\n",
      "\u001b[32m[I 2021-11-26 01:15:58,503]\u001b[0m Trial 75 finished with value: -175796.6609351745 and parameters: {'alpha': 0.8401891812751009, 'l1_ratio': 0.3294698207272666, 'n_features': 18}. Best is trial 0 with value: -175796.6609351745.\u001b[0m\n",
      "\u001b[32m[I 2021-11-26 01:15:59,498]\u001b[0m Trial 76 finished with value: -175796.6609351745 and parameters: {'alpha': 0.7619719252934458, 'l1_ratio': 0.4247751187292862, 'n_features': 19}. Best is trial 0 with value: -175796.6609351745.\u001b[0m\n",
      "\u001b[32m[I 2021-11-26 01:16:00,525]\u001b[0m Trial 77 finished with value: -175796.6609351745 and parameters: {'alpha': 0.831570359704534, 'l1_ratio': 0.006147090147460413, 'n_features': 19}. Best is trial 0 with value: -175796.6609351745.\u001b[0m\n",
      "\u001b[32m[I 2021-11-26 01:16:01,522]\u001b[0m Trial 78 finished with value: -175796.6609351745 and parameters: {'alpha': 0.9534500995003901, 'l1_ratio': 0.09114194007032106, 'n_features': 18}. Best is trial 0 with value: -175796.6609351745.\u001b[0m\n",
      "\u001b[32m[I 2021-11-26 01:16:02,538]\u001b[0m Trial 79 finished with value: -175796.6609351745 and parameters: {'alpha': 0.8513620131405658, 'l1_ratio': 0.13278206146759394, 'n_features': 19}. Best is trial 0 with value: -175796.6609351745.\u001b[0m\n",
      "\u001b[32m[I 2021-11-26 01:16:03,569]\u001b[0m Trial 80 finished with value: -175796.6609351745 and parameters: {'alpha': 0.9261349455130385, 'l1_ratio': 0.07696718607158927, 'n_features': 19}. Best is trial 0 with value: -175796.6609351745.\u001b[0m\n",
      "\u001b[32m[I 2021-11-26 01:16:04,523]\u001b[0m Trial 81 finished with value: -175796.6609351745 and parameters: {'alpha': 0.9596839779948614, 'l1_ratio': 0.026560036852270572, 'n_features': 18}. Best is trial 0 with value: -175796.6609351745.\u001b[0m\n",
      "\u001b[32m[I 2021-11-26 01:16:05,418]\u001b[0m Trial 82 finished with value: -175796.6609351745 and parameters: {'alpha': 0.8594318325712322, 'l1_ratio': 0.06465844233859752, 'n_features': 17}. Best is trial 0 with value: -175796.6609351745.\u001b[0m\n",
      "\u001b[32m[I 2021-11-26 01:16:06,365]\u001b[0m Trial 83 finished with value: -175796.6609351745 and parameters: {'alpha': 0.8822079539203889, 'l1_ratio': 0.049394146878770764, 'n_features': 17}. Best is trial 0 with value: -175796.6609351745.\u001b[0m\n",
      "\u001b[32m[I 2021-11-26 01:16:07,269]\u001b[0m Trial 84 finished with value: -175796.6609351745 and parameters: {'alpha': 0.9941244725673907, 'l1_ratio': 0.16179304864539673, 'n_features': 17}. Best is trial 0 with value: -175796.6609351745.\u001b[0m\n",
      "\u001b[32m[I 2021-11-26 01:16:08,168]\u001b[0m Trial 85 finished with value: -175796.6609351745 and parameters: {'alpha': 0.9196964601195501, 'l1_ratio': 0.16445223664256037, 'n_features': 16}. Best is trial 0 with value: -175796.6609351745.\u001b[0m\n",
      "\u001b[32m[I 2021-11-26 01:16:09,083]\u001b[0m Trial 86 finished with value: -175796.6609351745 and parameters: {'alpha': 0.9112571877109775, 'l1_ratio': 0.2181839119519871, 'n_features': 16}. Best is trial 0 with value: -175796.6609351745.\u001b[0m\n",
      "\u001b[32m[I 2021-11-26 01:16:10,007]\u001b[0m Trial 87 finished with value: -175796.6609351745 and parameters: {'alpha': 0.8163414623534785, 'l1_ratio': 0.13904167409978752, 'n_features': 17}. Best is trial 0 with value: -175796.6609351745.\u001b[0m\n",
      "\u001b[32m[I 2021-11-26 01:16:10,940]\u001b[0m Trial 88 finished with value: -175796.6609351745 and parameters: {'alpha': 0.9765180030483791, 'l1_ratio': 0.2510991804424678, 'n_features': 16}. Best is trial 0 with value: -175796.6609351745.\u001b[0m\n",
      "\u001b[32m[I 2021-11-26 01:16:11,876]\u001b[0m Trial 89 finished with value: -175796.6609351745 and parameters: {'alpha': 0.7252828066869816, 'l1_ratio': 0.18229125865102472, 'n_features': 16}. Best is trial 0 with value: -175796.6609351745.\u001b[0m\n",
      "\u001b[32m[I 2021-11-26 01:16:12,821]\u001b[0m Trial 90 finished with value: -175796.6609351745 and parameters: {'alpha': 0.3307494017158956, 'l1_ratio': 0.24001419381517372, 'n_features': 15}. Best is trial 0 with value: -175796.6609351745.\u001b[0m\n",
      "\u001b[32m[I 2021-11-26 01:16:13,734]\u001b[0m Trial 91 finished with value: -175796.6609351745 and parameters: {'alpha': 0.6634187833321485, 'l1_ratio': 0.8242460391128462, 'n_features': 16}. Best is trial 0 with value: -175796.6609351745.\u001b[0m\n",
      "\u001b[32m[I 2021-11-26 01:16:14,618]\u001b[0m Trial 92 finished with value: -175796.6609351745 and parameters: {'alpha': 0.4564365095705396, 'l1_ratio': 0.7063605453619844, 'n_features': 15}. Best is trial 0 with value: -175796.6609351745.\u001b[0m\n",
      "\u001b[32m[I 2021-11-26 01:16:15,547]\u001b[0m Trial 93 finished with value: -175796.6609351745 and parameters: {'alpha': 0.6342520824037656, 'l1_ratio': 0.7358577205440759, 'n_features': 15}. Best is trial 0 with value: -175796.6609351745.\u001b[0m\n",
      "\u001b[32m[I 2021-11-26 01:16:16,392]\u001b[0m Trial 94 finished with value: -175796.6609351745 and parameters: {'alpha': 0.2767771020290798, 'l1_ratio': 0.768529620835161, 'n_features': 14}. Best is trial 0 with value: -175796.6609351745.\u001b[0m\n",
      "\u001b[32m[I 2021-11-26 01:16:17,247]\u001b[0m Trial 95 finished with value: -175796.6609351745 and parameters: {'alpha': 0.47387247026555623, 'l1_ratio': 0.6939427153503471, 'n_features': 14}. Best is trial 0 with value: -175796.6609351745.\u001b[0m\n",
      "\u001b[32m[I 2021-11-26 01:16:18,170]\u001b[0m Trial 96 finished with value: -175796.6609351745 and parameters: {'alpha': 0.41574492339655633, 'l1_ratio': 0.7583172900028502, 'n_features': 15}. Best is trial 0 with value: -175796.6609351745.\u001b[0m\n",
      "\u001b[32m[I 2021-11-26 01:16:19,022]\u001b[0m Trial 97 finished with value: -175796.6609351745 and parameters: {'alpha': 0.5806522213061128, 'l1_ratio': 0.793489973650721, 'n_features': 14}. Best is trial 0 with value: -175796.6609351745.\u001b[0m\n",
      "\u001b[32m[I 2021-11-26 01:16:19,873]\u001b[0m Trial 98 finished with value: -175796.6609351745 and parameters: {'alpha': 0.2624510869262547, 'l1_ratio': 0.6670898789902457, 'n_features': 14}. Best is trial 0 with value: -175796.6609351745.\u001b[0m\n",
      "\u001b[32m[I 2021-11-26 01:16:20,675]\u001b[0m Trial 99 finished with value: -175796.6609351745 and parameters: {'alpha': 0.2190658400928474, 'l1_ratio': 0.9787660230275309, 'n_features': 13}. Best is trial 0 with value: -175796.6609351745.\u001b[0m\n"
     ]
    }
   ],
   "source": [
    "sampler = TPESampler(seed=42)\n",
    "direction = \"maximize\"\n",
    "study = optuna.create_study(sampler=sampler, direction=direction)\n",
    "study.optimize(\n",
    "    objective,\n",
    "    n_trials=100,\n",
    "    timeout=3600,\n",
    ")"
   ]
  },
  {
   "cell_type": "code",
   "execution_count": 21,
   "id": "23301033",
   "metadata": {
    "scrolled": true
   },
   "outputs": [
    {
     "data": {
      "text/plain": [
       "{'alpha': 0.885695762228656, 'l1_ratio': 0.4081196617917175, 'n_features': 20}"
      ]
     },
     "execution_count": 21,
     "metadata": {},
     "output_type": "execute_result"
    }
   ],
   "source": [
    "study.best_params"
   ]
  },
  {
   "cell_type": "code",
   "execution_count": 22,
   "id": "5c08bb6e",
   "metadata": {},
   "outputs": [
    {
     "name": "stdout",
     "output_type": "stream",
     "text": [
      "Wall time: 1.37 s\n"
     ]
    },
    {
     "data": {
      "text/plain": [
       "-129842.59349359092"
      ]
     },
     "execution_count": 22,
     "metadata": {},
     "output_type": "execute_result"
    }
   ],
   "source": [
    "%%time\n",
    "\n",
    "model = make_pipeline(\n",
    "    StandardScaler(),\n",
    "    ElasticNet(alpha=0.885695762228656, l1_ratio=0.4081196617917175),\n",
    ")\n",
    "\n",
    "cv_scores = cross_val_score(\n",
    "    model, \n",
    "    X_train.iloc[:, :20], \n",
    "    y_train, \n",
    "    scoring=\"neg_root_mean_squared_error\", \n",
    "    cv=5\n",
    ")\n",
    "\n",
    "cv_scores.mean()"
   ]
  },
  {
   "cell_type": "code",
   "execution_count": 64,
   "id": "83f004fd",
   "metadata": {},
   "outputs": [
    {
     "name": "stdout",
     "output_type": "stream",
     "text": [
      "Wall time: 228 ms\n"
     ]
    },
    {
     "data": {
      "text/plain": [
       "87935.9429470016"
      ]
     },
     "execution_count": 64,
     "metadata": {},
     "output_type": "execute_result"
    }
   ],
   "source": [
    "%%time\n",
    "\n",
    "model = make_pipeline(\n",
    "        StandardScaler(),\n",
    "        ElasticNet(alpha=0.885695762228656, l1_ratio=0.4081196617917175),\n",
    "    )\n",
    "\n",
    "model.fit(X_train.iloc[:, :20], y_train_log)\n",
    "y_pred = model.predict(X_test.iloc[:, :20])\n",
    "log_rmse(y_test_log, y_pred)"
   ]
  },
  {
   "cell_type": "markdown",
   "id": "3cf730b4",
   "metadata": {},
   "source": [
    "### MLPRegressor Log target"
   ]
  },
  {
   "cell_type": "code",
   "execution_count": 44,
   "id": "b2c9a39b",
   "metadata": {},
   "outputs": [],
   "source": [
    "def objective(trial) -> float:\n",
    "    n_features = trial.suggest_int(\"n_features\", 10, len(feature_columns))\n",
    "    n_hidden_layer = trial.suggest_int(\"n_hidden_layer\", 1, 3)\n",
    "    hidden_layer_sizes = trial.suggest_int(\"hidden_layer_sizes\", 10, 100)\n",
    "    \n",
    "    model = make_pipeline(\n",
    "        StandardScaler(),\n",
    "        MLPRegressor(hidden_layer_sizes=(hidden_layer_sizes,) * n_hidden_layer,\n",
    "                     max_iter=10,\n",
    "                     learning_rate='adaptive',\n",
    "                     solver='adam'),\n",
    "    )\n",
    "\n",
    "    cv_scores = cross_val_score(\n",
    "        model, \n",
    "        X_train.iloc[:, :n_features].values, \n",
    "        y_train_log, \n",
    "        scoring=lrmse_scorer, \n",
    "        cv=5\n",
    "    )\n",
    "    \n",
    "    mean_scores = np.mean(cv_scores)\n",
    "    return mean_scores if not np.isnan(mean_scores) else -10"
   ]
  },
  {
   "cell_type": "code",
   "execution_count": null,
   "id": "acd5ea68",
   "metadata": {
    "scrolled": true
   },
   "outputs": [],
   "source": [
    "sampler = TPESampler(seed=42)\n",
    "direction = \"maximize\"\n",
    "study = optuna.create_study(sampler=sampler, direction=direction)\n",
    "study.optimize(\n",
    "    objective,\n",
    "    n_trials=100,\n",
    "    timeout=3600,\n",
    ")"
   ]
  },
  {
   "cell_type": "code",
   "execution_count": 66,
   "id": "3c0111cb",
   "metadata": {},
   "outputs": [
    {
     "data": {
      "text/plain": [
       "{'n_features': 21, 'n_hidden_layer': 3, 'hidden_layer_sizes': 100}"
      ]
     },
     "execution_count": 66,
     "metadata": {},
     "output_type": "execute_result"
    }
   ],
   "source": [
    "study.best_params"
   ]
  },
  {
   "cell_type": "code",
   "execution_count": 67,
   "id": "853b8b38",
   "metadata": {},
   "outputs": [
    {
     "name": "stdout",
     "output_type": "stream",
     "text": [
      "Iteration 1, loss = 1.17391022\n",
      "Iteration 2, loss = 0.34136710\n",
      "Iteration 3, loss = 0.33258506\n",
      "Iteration 4, loss = 0.32425938\n",
      "Iteration 5, loss = 0.31859063\n",
      "Iteration 6, loss = 0.31698680\n",
      "Iteration 7, loss = 0.31247005\n",
      "Iteration 8, loss = 0.30995690\n",
      "Iteration 9, loss = 0.30808771\n",
      "Iteration 10, loss = 0.30629250\n",
      "Iteration 11, loss = 0.30491626\n",
      "Iteration 12, loss = 0.30363126\n",
      "Iteration 13, loss = 0.30049969\n",
      "Iteration 14, loss = 0.30060327\n",
      "Iteration 15, loss = 0.29838067\n",
      "Iteration 16, loss = 0.29722722\n",
      "Iteration 17, loss = 0.29569685\n",
      "Iteration 18, loss = 0.29465473\n",
      "Iteration 19, loss = 0.29277837\n",
      "Iteration 20, loss = 0.29208851\n",
      "Wall time: 1min 3s\n"
     ]
    },
    {
     "name": "stderr",
     "output_type": "stream",
     "text": [
      "C:\\Users\\Sasha\\AppData\\Roaming\\Python\\Python38\\site-packages\\sklearn\\neural_network\\_multilayer_perceptron.py:692: ConvergenceWarning: Stochastic Optimizer: Maximum iterations (20) reached and the optimization hasn't converged yet.\n",
      "  warnings.warn(\n"
     ]
    },
    {
     "data": {
      "text/plain": [
       "81247.72714562679"
      ]
     },
     "execution_count": 67,
     "metadata": {},
     "output_type": "execute_result"
    }
   ],
   "source": [
    "%%time\n",
    "\n",
    "model = make_pipeline(\n",
    "        StandardScaler(),\n",
    "        MLPRegressor(hidden_layer_sizes=(100,)*3,\n",
    "                     max_iter=20,\n",
    "                     learning_rate='adaptive',\n",
    "                     solver='adam',\n",
    "                     verbose=True,\n",
    "                    ),\n",
    "    )\n",
    "\n",
    "model.fit(X_train.iloc[:, :], y_train_log)\n",
    "y_pred = model.predict(X_test.iloc[:, :])\n",
    "log_rmse(y_test_log, y_pred)"
   ]
  }
 ],
 "metadata": {
  "kernelspec": {
   "display_name": "Python 3 (ipykernel)",
   "language": "python",
   "name": "python3"
  },
  "language_info": {
   "codemirror_mode": {
    "name": "ipython",
    "version": 3
   },
   "file_extension": ".py",
   "mimetype": "text/x-python",
   "name": "python",
   "nbconvert_exporter": "python",
   "pygments_lexer": "ipython3",
   "version": "3.8.0"
  }
 },
 "nbformat": 4,
 "nbformat_minor": 5
}
