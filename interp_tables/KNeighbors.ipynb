{
 "cells": [
  {
   "cell_type": "code",
   "execution_count": 1,
   "id": "9eda1c43",
   "metadata": {},
   "outputs": [],
   "source": [
    "import numpy as np\n",
    "import pandas as pd\n",
    "\n",
    "\n",
    "from sklearn.preprocessing import LabelEncoder\n",
    "\n",
    "import matplotlib.pyplot as plt"
   ]
  },
  {
   "cell_type": "code",
   "execution_count": 2,
   "id": "06986bf7",
   "metadata": {},
   "outputs": [
    {
     "data": {
      "text/plain": [
       "(279792, 23)"
      ]
     },
     "execution_count": 2,
     "metadata": {},
     "output_type": "execute_result"
    }
   ],
   "source": [
    "dataset = pd.read_csv(\"../data/train_simple.gzip\", compression=\"gzip\")\n",
    "dataset.shape"
   ]
  },
  {
   "cell_type": "code",
   "execution_count": 3,
   "id": "14a0f163",
   "metadata": {},
   "outputs": [],
   "source": [
    "cat_cols = [\"region\", \"osm_city_nearest_name\", \"realty_type\"]\n",
    "\n",
    "for col in cat_cols:\n",
    "    le = LabelEncoder()\n",
    "    dataset[col] = le.fit_transform(dataset[col])"
   ]
  },
  {
   "cell_type": "code",
   "execution_count": 4,
   "id": "574b3d16",
   "metadata": {},
   "outputs": [],
   "source": [
    "dataset[\"floor\"] = dataset[\"floor\"].fillna(1)\n",
    "dataset[\"city_population\"] = dataset[\"city_population\"].fillna(0)"
   ]
  },
  {
   "cell_type": "code",
   "execution_count": 5,
   "id": "d0b94672",
   "metadata": {},
   "outputs": [],
   "source": [
    "dataset[\"price_type\"] = dataset[\"price_type\"].astype(bool)"
   ]
  },
  {
   "cell_type": "code",
   "execution_count": 6,
   "id": "41338224",
   "metadata": {},
   "outputs": [
    {
     "data": {
      "text/plain": [
       "0"
      ]
     },
     "execution_count": 6,
     "metadata": {},
     "output_type": "execute_result"
    }
   ],
   "source": [
    "dataset.isna().sum().sum()"
   ]
  },
  {
   "cell_type": "markdown",
   "id": "a9b36f35",
   "metadata": {},
   "source": [
    "# Split data"
   ]
  },
  {
   "cell_type": "code",
   "execution_count": 7,
   "id": "e5af67e2",
   "metadata": {},
   "outputs": [],
   "source": [
    "target = \"per_square_meter_price\"\n",
    "treatment = \"price_type\""
   ]
  },
  {
   "cell_type": "code",
   "execution_count": 8,
   "id": "4a4daeaa",
   "metadata": {},
   "outputs": [],
   "source": [
    "feature_columns = [\n",
    "    'city_population',                  # население города\n",
    "    'total_square',                     # Общая площадь\n",
    "    'osm_catering_points_in_0.005',     # Кол-во заведений общепита в радиусе 500 метров, OpenStreetMap\n",
    "    'region',                           # Регион\n",
    "    'floor',                            # Этаж\n",
    "    'realty_type',                      # Тип недвижимости (закодирован)\n",
    "    'osm_crossing_closest_dist',        # Расстояние до ближайшего пешеходного перехода\n",
    "    'osm_city_nearest_name',            # Название ближайшего города по OpenStreetMap\n",
    "    'osm_subway_closest_dist',          # Расстояние до ближайщей станции метро, OpenStreetMap\n",
    "    'reform_mean_floor_count_1000',     # Средняя этажность домов в радиусе 1 км по истоинчку РеформаЖКХ\n",
    "    'osm_transport_stop_closest_dist',  # Расстояние до ближайщей остановки общественного транспорта, OpenStreetMap\n",
    "    'osm_amenity_points_in_0.001',      # Кол-во объектов связанных с удобством в радиусе 100 метров, OpenStreetMap\n",
    "    'osm_city_nearest_population',      # Население ближайшего города по OpenStreetMap\n",
    "    'lng',                              # Долгота\n",
    "    'osm_city_closest_dist',            # Расстояние до центра ближайшего города, OpenStreetMap\n",
    "    'osm_crossing_points_in_0.005',     # Кол-во пешеходных переходов в радиусе 500 метров, OpenStreetMap\n",
    "    'floor_type',                       # тип этажа\n",
    "    'lat',                              # Широта\n",
    "    'reform_mean_year_building_500',    # Среднее значение года постройки домов в радиусе 500 метров по истоинчку РеформаЖКХ\n",
    "    'osm_culture_points_in_0.005',      # Кол-во объектов культуры в радиусе 500 метров, OpenStreetMap\n",
    "    'reform_house_population_500',      # Коэффициент количества проживающих людей в радиусе 500 метров по источнику РеформаЖКХ\n",
    "]"
   ]
  },
  {
   "cell_type": "code",
   "execution_count": 9,
   "id": "35c15bc6",
   "metadata": {},
   "outputs": [
    {
     "data": {
      "text/plain": [
       "((275299, 21), (4493, 21))"
      ]
     },
     "execution_count": 9,
     "metadata": {},
     "output_type": "execute_result"
    }
   ],
   "source": [
    "X_train = dataset.loc[dataset[treatment] == 0, feature_columns]\n",
    "X_test = dataset.loc[dataset[treatment] == 1, feature_columns]\n",
    "\n",
    "y_train = dataset.loc[dataset[treatment] == 0, target]\n",
    "y_test = dataset.loc[dataset[treatment] == 1, target]\n",
    "\n",
    "X_train.shape, X_test.shape"
   ]
  },
  {
   "cell_type": "markdown",
   "id": "38f2ef1b",
   "metadata": {},
   "source": [
    "# Model"
   ]
  },
  {
   "cell_type": "code",
   "execution_count": 10,
   "id": "9d0638d5",
   "metadata": {},
   "outputs": [],
   "source": [
    "import nmslib\n",
    "from scipy.sparse import csr_matrix\n",
    "\n",
    "from sklearn.base import BaseEstimator, TransformerMixin\n",
    "from sklearn.neighbors import KNeighborsRegressor\n",
    "from sklearn.pipeline import Pipeline, make_pipeline\n",
    "from sklearn.preprocessing import StandardScaler\n",
    "from sklearn.model_selection import cross_val_score\n",
    "from sklearn.metrics import mean_squared_error\n",
    "\n",
    "import optuna\n",
    "from optuna.samplers import TPESampler\n",
    "from optuna.study import Study"
   ]
  },
  {
   "cell_type": "code",
   "execution_count": 11,
   "id": "72f92bdb",
   "metadata": {},
   "outputs": [],
   "source": [
    "class NMSlibTransformer(TransformerMixin, BaseEstimator):\n",
    "    \"\"\"Wrapper for using nmslib as sklearn's KNeighborsTransformer\"\"\"\n",
    "\n",
    "    def __init__(self, n_neighbors=5, metric='euclidean', method='sw-graph',\n",
    "                 n_jobs=1):\n",
    "        self.n_neighbors = n_neighbors\n",
    "        self.method = method\n",
    "        self.metric = metric\n",
    "        self.n_jobs = n_jobs\n",
    "\n",
    "    def fit(self, X, y=None):\n",
    "        self.n_samples_fit_ = X.shape[0]\n",
    "\n",
    "        # see more metric in the manual\n",
    "        # https://github.com/nmslib/nmslib/tree/master/manual\n",
    "        space = {\n",
    "            'euclidean': 'l2',\n",
    "            'cosine': 'cosinesimil',\n",
    "            'l1': 'l1',\n",
    "            'l2': 'l2',\n",
    "        }[self.metric]\n",
    "\n",
    "        self.nmslib_ = nmslib.init(method=self.method, space=space)\n",
    "        self.nmslib_.addDataPointBatch(X)\n",
    "        self.nmslib_.createIndex()\n",
    "        return self\n",
    "\n",
    "    def transform(self, X):\n",
    "        n_samples_transform = X.shape[0]\n",
    "\n",
    "        # For compatibility reasons, as each sample is considered as its own\n",
    "        # neighbor, one extra neighbor will be computed.\n",
    "        n_neighbors = self.n_neighbors + 1\n",
    "\n",
    "        results = self.nmslib_.knnQueryBatch(X, k=n_neighbors,\n",
    "                                             num_threads=self.n_jobs)\n",
    "        indices, distances = zip(*results)\n",
    "        indices, distances = np.vstack(indices), np.vstack(distances)\n",
    "\n",
    "        indptr = np.arange(0, n_samples_transform * n_neighbors + 1,\n",
    "                           n_neighbors)\n",
    "        kneighbors_graph = csr_matrix((distances.ravel(), indices.ravel(),\n",
    "                                       indptr), shape=(n_samples_transform,\n",
    "                                                       self.n_samples_fit_))\n",
    "\n",
    "        return kneighbors_graph"
   ]
  },
  {
   "cell_type": "code",
   "execution_count": 12,
   "id": "f66cd18f",
   "metadata": {},
   "outputs": [],
   "source": [
    "def objective(trial) -> float:\n",
    "    params = {\n",
    "        \"n_neighbors\": trial.suggest_int(\"n_neighbors\", 3, 25),\n",
    "        \"metric\": trial.suggest_categorical(\"metric\", ['euclidean', 'cosine', 'l1', 'l2']),\n",
    "        \"method\": trial.suggest_categorical(\"method\", ['hnsw', 'sw-graph']),\n",
    "    }\n",
    "    \n",
    "    n_neighbors = trial.suggest_int(\"n_neighbors_knn\", 1, params[\"n_neighbors\"])\n",
    "    n_features = trial.suggest_int(\"n_features\", 10, len(feature_columns))\n",
    "\n",
    "    \n",
    "    model = make_pipeline(\n",
    "        StandardScaler(),\n",
    "        NMSlibTransformer(**params),\n",
    "        KNeighborsRegressor(n_neighbors=n_neighbors, metric=\"precomputed\"),\n",
    "    )\n",
    "\n",
    "    cv_scores = cross_val_score(\n",
    "        model, \n",
    "        X_train.iloc[:, :n_features].values, \n",
    "        y_train, \n",
    "        scoring=\"neg_root_mean_squared_error\", \n",
    "        cv=5\n",
    "    )\n",
    "    \n",
    "    mean_scores = np.mean(cv_scores)\n",
    "    return mean_scores if not np.isnan(mean_scores) else -200_000"
   ]
  },
  {
   "cell_type": "code",
   "execution_count": 13,
   "id": "a3cd241b",
   "metadata": {
    "collapsed": true
   },
   "outputs": [
    {
     "name": "stderr",
     "output_type": "stream",
     "text": [
      "\u001b[32m[I 2021-10-21 17:22:58,135]\u001b[0m A new study created in memory with name: no-name-1078329f-d827-4543-8ac6-e35fb6ab81e4\u001b[0m\n",
      "/tmp/ipykernel_102781/3392229680.py:4: ExperimentalWarning: enqueue_trial is experimental (supported from v1.2.0). The interface can change in the future.\n",
      "  study.enqueue_trial({\n",
      "/home/ningeen/anaconda3/envs/interp_ai/lib/python3.8/site-packages/optuna/study/study.py:857: ExperimentalWarning: create_trial is experimental (supported from v2.0.0). The interface can change in the future.\n",
      "  create_trial(state=TrialState.WAITING, system_attrs={\"fixed_params\": params})\n",
      "/home/ningeen/anaconda3/envs/interp_ai/lib/python3.8/site-packages/optuna/study/study.py:856: ExperimentalWarning: add_trial is experimental (supported from v2.0.0). The interface can change in the future.\n",
      "  self.add_trial(\n",
      "/home/ningeen/anaconda3/envs/interp_ai/lib/python3.8/site-packages/optuna/progress_bar.py:47: ExperimentalWarning: Progress bar is experimental (supported from v1.2.0). The interface can change in the future.\n",
      "  self._init_valid()\n"
     ]
    },
    {
     "data": {
      "application/vnd.jupyter.widget-view+json": {
       "model_id": "66623fc3f0604b0e86e7fffe3b818b07",
       "version_major": 2,
       "version_minor": 0
      },
      "text/plain": [
       "  0%|          | 0/50 [00:00<?, ?it/s]"
      ]
     },
     "metadata": {},
     "output_type": "display_data"
    },
    {
     "name": "stdout",
     "output_type": "stream",
     "text": [
      "\u001b[32m[I 2021-10-21 17:23:55,146]\u001b[0m Trial 0 finished with value: -96484.02572840759 and parameters: {'n_neighbors': 11, 'metric': 'l1', 'method': 'hnsw', 'n_neighbors_knn': 5, 'n_features': 21}. Best is trial 0 with value: -96484.02572840759.\u001b[0m\n",
      "\u001b[32m[I 2021-10-21 17:24:40,247]\u001b[0m Trial 1 finished with value: -105634.7121642932 and parameters: {'n_neighbors': 6, 'metric': 'euclidean', 'method': 'hnsw', 'n_neighbors_knn': 1, 'n_features': 21}. Best is trial 0 with value: -96484.02572840759.\u001b[0m\n",
      "\u001b[32m[I 2021-10-21 17:25:27,817]\u001b[0m Trial 2 finished with value: -96077.04104295363 and parameters: {'n_neighbors': 6, 'metric': 'l1', 'method': 'sw-graph', 'n_neighbors_knn': 4, 'n_features': 15}. Best is trial 2 with value: -96077.04104295363.\u001b[0m\n",
      "\u001b[32m[I 2021-10-21 17:26:27,407]\u001b[0m Trial 3 finished with value: -103493.93995567206 and parameters: {'n_neighbors': 20, 'metric': 'cosine', 'method': 'sw-graph', 'n_neighbors_knn': 14, 'n_features': 15}. Best is trial 2 with value: -96077.04104295363.\u001b[0m\n",
      "\u001b[32m[I 2021-10-21 17:27:30,076]\u001b[0m Trial 4 finished with value: -105444.27736935011 and parameters: {'n_neighbors': 21, 'metric': 'cosine', 'method': 'sw-graph', 'n_neighbors_knn': 14, 'n_features': 21}. Best is trial 2 with value: -96077.04104295363.\u001b[0m\n"
     ]
    },
    {
     "name": "stderr",
     "output_type": "stream",
     "text": [
      "/home/ningeen/anaconda3/envs/interp_ai/lib/python3.8/site-packages/sklearn/model_selection/_validation.py:372: FitFailedWarning: \n",
      "2 fits failed out of a total of 5.\n",
      "The score on these train-test partitions for these parameters will be set to nan.\n",
      "If these failures are not expected, you can try to debug them by setting error_score='raise'.\n",
      "\n",
      "Below are more details about the failures:\n",
      "--------------------------------------------------------------------------------\n",
      "1 fits failed with the following error:\n",
      "Traceback (most recent call last):\n",
      "  File \"/home/ningeen/anaconda3/envs/interp_ai/lib/python3.8/site-packages/sklearn/model_selection/_validation.py\", line 681, in _fit_and_score\n",
      "    estimator.fit(X_train, y_train, **fit_params)\n",
      "  File \"/home/ningeen/anaconda3/envs/interp_ai/lib/python3.8/site-packages/sklearn/pipeline.py\", line 390, in fit\n",
      "    Xt = self._fit(X, y, **fit_params_steps)\n",
      "  File \"/home/ningeen/anaconda3/envs/interp_ai/lib/python3.8/site-packages/sklearn/pipeline.py\", line 348, in _fit\n",
      "    X, fitted_transformer = fit_transform_one_cached(\n",
      "  File \"/home/ningeen/anaconda3/envs/interp_ai/lib/python3.8/site-packages/joblib/memory.py\", line 349, in __call__\n",
      "    return self.func(*args, **kwargs)\n",
      "  File \"/home/ningeen/anaconda3/envs/interp_ai/lib/python3.8/site-packages/sklearn/pipeline.py\", line 891, in _fit_transform_one\n",
      "    res = transformer.fit_transform(X, y, **fit_params)\n",
      "  File \"/home/ningeen/anaconda3/envs/interp_ai/lib/python3.8/site-packages/sklearn/base.py\", line 847, in fit_transform\n",
      "    return self.fit(X, y, **fit_params).transform(X)\n",
      "  File \"/tmp/ipykernel_102781/516969310.py\", line 38, in transform\n",
      "    indices, distances = np.vstack(indices), np.vstack(distances)\n",
      "  File \"<__array_function__ internals>\", line 5, in vstack\n",
      "  File \"/home/ningeen/anaconda3/envs/interp_ai/lib/python3.8/site-packages/numpy/core/shape_base.py\", line 282, in vstack\n",
      "    return _nx.concatenate(arrs, 0)\n",
      "  File \"<__array_function__ internals>\", line 5, in concatenate\n",
      "ValueError: all the input array dimensions for the concatenation axis must match exactly, but along dimension 1, the array at index 0 has size 21 and the array at index 146151 has size 20\n",
      "\n",
      "--------------------------------------------------------------------------------\n",
      "1 fits failed with the following error:\n",
      "Traceback (most recent call last):\n",
      "  File \"/home/ningeen/anaconda3/envs/interp_ai/lib/python3.8/site-packages/sklearn/model_selection/_validation.py\", line 681, in _fit_and_score\n",
      "    estimator.fit(X_train, y_train, **fit_params)\n",
      "  File \"/home/ningeen/anaconda3/envs/interp_ai/lib/python3.8/site-packages/sklearn/pipeline.py\", line 390, in fit\n",
      "    Xt = self._fit(X, y, **fit_params_steps)\n",
      "  File \"/home/ningeen/anaconda3/envs/interp_ai/lib/python3.8/site-packages/sklearn/pipeline.py\", line 348, in _fit\n",
      "    X, fitted_transformer = fit_transform_one_cached(\n",
      "  File \"/home/ningeen/anaconda3/envs/interp_ai/lib/python3.8/site-packages/joblib/memory.py\", line 349, in __call__\n",
      "    return self.func(*args, **kwargs)\n",
      "  File \"/home/ningeen/anaconda3/envs/interp_ai/lib/python3.8/site-packages/sklearn/pipeline.py\", line 891, in _fit_transform_one\n",
      "    res = transformer.fit_transform(X, y, **fit_params)\n",
      "  File \"/home/ningeen/anaconda3/envs/interp_ai/lib/python3.8/site-packages/sklearn/base.py\", line 847, in fit_transform\n",
      "    return self.fit(X, y, **fit_params).transform(X)\n",
      "  File \"/tmp/ipykernel_102781/516969310.py\", line 38, in transform\n",
      "    indices, distances = np.vstack(indices), np.vstack(distances)\n",
      "  File \"<__array_function__ internals>\", line 5, in vstack\n",
      "  File \"/home/ningeen/anaconda3/envs/interp_ai/lib/python3.8/site-packages/numpy/core/shape_base.py\", line 282, in vstack\n",
      "    return _nx.concatenate(arrs, 0)\n",
      "  File \"<__array_function__ internals>\", line 5, in concatenate\n",
      "ValueError: all the input array dimensions for the concatenation axis must match exactly, but along dimension 1, the array at index 0 has size 21 and the array at index 160105 has size 20\n",
      "\n",
      "  warnings.warn(some_fits_failed_message, FitFailedWarning)\n"
     ]
    },
    {
     "name": "stdout",
     "output_type": "stream",
     "text": [
      "\u001b[32m[I 2021-10-21 17:28:10,971]\u001b[0m Trial 5 finished with value: -200000.0 and parameters: {'n_neighbors': 20, 'metric': 'euclidean', 'method': 'hnsw', 'n_neighbors_knn': 20, 'n_features': 15}. Best is trial 2 with value: -96077.04104295363.\u001b[0m\n",
      "\u001b[32m[I 2021-10-21 17:28:57,766]\u001b[0m Trial 6 finished with value: -97988.31777967178 and parameters: {'n_neighbors': 12, 'metric': 'l1', 'method': 'sw-graph', 'n_neighbors_knn': 8, 'n_features': 10}. Best is trial 2 with value: -96077.04104295363.\u001b[0m\n",
      "\u001b[32m[I 2021-10-21 17:29:42,551]\u001b[0m Trial 7 finished with value: -97858.87602390665 and parameters: {'n_neighbors': 9, 'metric': 'l1', 'method': 'sw-graph', 'n_neighbors_knn': 8, 'n_features': 11}. Best is trial 2 with value: -96077.04104295363.\u001b[0m\n",
      "\u001b[32m[I 2021-10-21 17:30:21,902]\u001b[0m Trial 8 finished with value: -98407.29337290392 and parameters: {'n_neighbors': 9, 'metric': 'euclidean', 'method': 'hnsw', 'n_neighbors_knn': 6, 'n_features': 15}. Best is trial 2 with value: -96077.04104295363.\u001b[0m\n",
      "\u001b[32m[I 2021-10-21 17:31:08,561]\u001b[0m Trial 9 finished with value: -102869.67415013612 and parameters: {'n_neighbors': 14, 'metric': 'l1', 'method': 'hnsw', 'n_neighbors_knn': 10, 'n_features': 17}. Best is trial 2 with value: -96077.04104295363.\u001b[0m\n",
      "\u001b[32m[I 2021-10-21 17:31:56,591]\u001b[0m Trial 10 finished with value: -101611.60561769958 and parameters: {'n_neighbors': 6, 'metric': 'l2', 'method': 'sw-graph', 'n_neighbors_knn': 2, 'n_features': 18}. Best is trial 2 with value: -96077.04104295363.\u001b[0m\n",
      "\u001b[32m[I 2021-10-21 17:32:37,125]\u001b[0m Trial 11 finished with value: -104582.28704742025 and parameters: {'n_neighbors': 3, 'metric': 'l1', 'method': 'hnsw', 'n_neighbors_knn': 1, 'n_features': 13}. Best is trial 2 with value: -96077.04104295363.\u001b[0m\n",
      "\u001b[32m[I 2021-10-21 17:33:22,403]\u001b[0m Trial 12 finished with value: -98732.39591148037 and parameters: {'n_neighbors': 11, 'metric': 'l1', 'method': 'hnsw', 'n_neighbors_knn': 4, 'n_features': 18}. Best is trial 2 with value: -96077.04104295363.\u001b[0m\n",
      "\u001b[32m[I 2021-10-21 17:34:15,139]\u001b[0m Trial 13 finished with value: -98042.54959755103 and parameters: {'n_neighbors': 17, 'metric': 'l2', 'method': 'sw-graph', 'n_neighbors_knn': 5, 'n_features': 13}. Best is trial 2 with value: -96077.04104295363.\u001b[0m\n",
      "\u001b[32m[I 2021-10-21 17:34:59,798]\u001b[0m Trial 14 finished with value: -98427.4951199077 and parameters: {'n_neighbors': 3, 'metric': 'l1', 'method': 'hnsw', 'n_neighbors_knn': 2, 'n_features': 19}. Best is trial 2 with value: -96077.04104295363.\u001b[0m\n",
      "\u001b[32m[I 2021-10-21 17:35:51,295]\u001b[0m Trial 15 finished with value: -96624.75707548426 and parameters: {'n_neighbors': 16, 'metric': 'l1', 'method': 'sw-graph', 'n_neighbors_knn': 4, 'n_features': 13}. Best is trial 2 with value: -96077.04104295363.\u001b[0m\n",
      "\u001b[32m[I 2021-10-21 17:36:39,031]\u001b[0m Trial 16 finished with value: -99069.11351513097 and parameters: {'n_neighbors': 7, 'metric': 'l1', 'method': 'sw-graph', 'n_neighbors_knn': 3, 'n_features': 17}. Best is trial 2 with value: -96077.04104295363.\u001b[0m\n",
      "\u001b[32m[I 2021-10-21 17:37:22,499]\u001b[0m Trial 17 finished with value: -102155.81080593415 and parameters: {'n_neighbors': 12, 'metric': 'cosine', 'method': 'hnsw', 'n_neighbors_knn': 7, 'n_features': 20}. Best is trial 2 with value: -96077.04104295363.\u001b[0m\n",
      "\u001b[32m[I 2021-10-21 17:38:08,774]\u001b[0m Trial 18 finished with value: -97509.74735124549 and parameters: {'n_neighbors': 9, 'metric': 'l2', 'method': 'sw-graph', 'n_neighbors_knn': 5, 'n_features': 16}. Best is trial 2 with value: -96077.04104295363.\u001b[0m\n",
      "\u001b[32m[I 2021-10-21 17:38:51,663]\u001b[0m Trial 19 finished with value: -100706.47791326423 and parameters: {'n_neighbors': 15, 'metric': 'l1', 'method': 'hnsw', 'n_neighbors_knn': 10, 'n_features': 14}. Best is trial 2 with value: -96077.04104295363.\u001b[0m\n",
      "\u001b[32m[I 2021-10-21 17:39:39,216]\u001b[0m Trial 20 finished with value: -99450.72498093406 and parameters: {'n_neighbors': 5, 'metric': 'l1', 'method': 'sw-graph', 'n_neighbors_knn': 4, 'n_features': 19}. Best is trial 2 with value: -96077.04104295363.\u001b[0m\n",
      "\u001b[32m[I 2021-10-21 17:40:27,895]\u001b[0m Trial 21 finished with value: -98454.00554775819 and parameters: {'n_neighbors': 17, 'metric': 'l1', 'method': 'sw-graph', 'n_neighbors_knn': 6, 'n_features': 12}. Best is trial 2 with value: -96077.04104295363.\u001b[0m\n",
      "\u001b[32m[I 2021-10-21 17:41:23,648]\u001b[0m Trial 22 finished with value: -105045.47837604424 and parameters: {'n_neighbors': 25, 'metric': 'l1', 'method': 'sw-graph', 'n_neighbors_knn': 19, 'n_features': 13}. Best is trial 2 with value: -96077.04104295363.\u001b[0m\n",
      "\u001b[32m[I 2021-10-21 17:42:14,623]\u001b[0m Trial 23 finished with value: -96041.93625456709 and parameters: {'n_neighbors': 15, 'metric': 'l1', 'method': 'sw-graph', 'n_neighbors_knn': 3, 'n_features': 14}. Best is trial 23 with value: -96041.93625456709.\u001b[0m\n",
      "\u001b[32m[I 2021-10-21 17:43:03,724]\u001b[0m Trial 24 finished with value: -94381.72614337257 and parameters: {'n_neighbors': 13, 'metric': 'l1', 'method': 'sw-graph', 'n_neighbors_knn': 3, 'n_features': 16}. Best is trial 24 with value: -94381.72614337257.\u001b[0m\n",
      "\u001b[32m[I 2021-10-21 17:43:52,841]\u001b[0m Trial 25 finished with value: -94507.92888768308 and parameters: {'n_neighbors': 13, 'metric': 'l1', 'method': 'sw-graph', 'n_neighbors_knn': 3, 'n_features': 16}. Best is trial 24 with value: -94381.72614337257.\u001b[0m\n",
      "\u001b[32m[I 2021-10-21 17:44:42,506]\u001b[0m Trial 26 finished with value: -96054.13732136058 and parameters: {'n_neighbors': 14, 'metric': 'euclidean', 'method': 'sw-graph', 'n_neighbors_knn': 2, 'n_features': 16}. Best is trial 24 with value: -94381.72614337257.\u001b[0m\n",
      "\u001b[32m[I 2021-10-21 17:45:39,702]\u001b[0m Trial 27 finished with value: -106027.32092010419 and parameters: {'n_neighbors': 18, 'metric': 'cosine', 'method': 'sw-graph', 'n_neighbors_knn': 12, 'n_features': 17}. Best is trial 24 with value: -94381.72614337257.\u001b[0m\n",
      "\u001b[32m[I 2021-10-21 17:46:29,042]\u001b[0m Trial 28 finished with value: -97002.64970553813 and parameters: {'n_neighbors': 12, 'metric': 'l2', 'method': 'sw-graph', 'n_neighbors_knn': 3, 'n_features': 14}. Best is trial 24 with value: -94381.72614337257.\u001b[0m\n",
      "\u001b[32m[I 2021-10-21 17:47:19,236]\u001b[0m Trial 29 finished with value: -96174.86002977497 and parameters: {'n_neighbors': 14, 'metric': 'l1', 'method': 'sw-graph', 'n_neighbors_knn': 3, 'n_features': 14}. Best is trial 24 with value: -94381.72614337257.\u001b[0m\n",
      "\u001b[32m[I 2021-10-21 17:48:05,081]\u001b[0m Trial 30 finished with value: -94500.65644510025 and parameters: {'n_neighbors': 10, 'metric': 'l1', 'method': 'sw-graph', 'n_neighbors_knn': 3, 'n_features': 16}. Best is trial 24 with value: -94381.72614337257.\u001b[0m\n",
      "\u001b[32m[I 2021-10-21 17:48:51,421]\u001b[0m Trial 31 finished with value: -94360.89565843194 and parameters: {'n_neighbors': 10, 'metric': 'l1', 'method': 'sw-graph', 'n_neighbors_knn': 3, 'n_features': 16}. Best is trial 31 with value: -94360.89565843194.\u001b[0m\n",
      "\u001b[32m[I 2021-10-21 17:49:37,847]\u001b[0m Trial 32 finished with value: -94651.01002482783 and parameters: {'n_neighbors': 10, 'metric': 'l1', 'method': 'sw-graph', 'n_neighbors_knn': 2, 'n_features': 16}. Best is trial 31 with value: -94360.89565843194.\u001b[0m\n",
      "\u001b[32m[I 2021-10-21 17:50:25,194]\u001b[0m Trial 33 finished with value: -99354.46473187562 and parameters: {'n_neighbors': 8, 'metric': 'l1', 'method': 'sw-graph', 'n_neighbors_knn': 3, 'n_features': 17}. Best is trial 31 with value: -94360.89565843194.\u001b[0m\n",
      "\u001b[32m[I 2021-10-21 17:51:13,907]\u001b[0m Trial 34 finished with value: -106368.28932807183 and parameters: {'n_neighbors': 11, 'metric': 'l1', 'method': 'sw-graph', 'n_neighbors_knn': 1, 'n_features': 18}. Best is trial 31 with value: -94360.89565843194.\u001b[0m\n",
      "\u001b[32m[I 2021-10-21 17:52:01,856]\u001b[0m Trial 35 finished with value: -97378.45374829415 and parameters: {'n_neighbors': 13, 'metric': 'euclidean', 'method': 'sw-graph', 'n_neighbors_knn': 5, 'n_features': 16}. Best is trial 31 with value: -94360.89565843194.\u001b[0m\n",
      "\u001b[32m[I 2021-10-21 17:52:52,487]\u001b[0m Trial 36 finished with value: -97535.12068603301 and parameters: {'n_neighbors': 10, 'metric': 'cosine', 'method': 'sw-graph', 'n_neighbors_knn': 4, 'n_features': 15}. Best is trial 31 with value: -94360.89565843194.\u001b[0m\n",
      "\u001b[32m[I 2021-10-21 17:53:43,021]\u001b[0m Trial 37 finished with value: -101991.93324959079 and parameters: {'n_neighbors': 13, 'metric': 'l1', 'method': 'sw-graph', 'n_neighbors_knn': 1, 'n_features': 16}. Best is trial 31 with value: -94360.89565843194.\u001b[0m\n"
     ]
    },
    {
     "name": "stdout",
     "output_type": "stream",
     "text": [
      "\u001b[32m[I 2021-10-21 17:54:30,202]\u001b[0m Trial 38 finished with value: -95292.70296231464 and parameters: {'n_neighbors': 7, 'metric': 'l1', 'method': 'sw-graph', 'n_neighbors_knn': 3, 'n_features': 15}. Best is trial 31 with value: -94360.89565843194.\u001b[0m\n",
      "\u001b[32m[I 2021-10-21 17:55:20,963]\u001b[0m Trial 39 finished with value: -101636.7523313956 and parameters: {'n_neighbors': 10, 'metric': 'euclidean', 'method': 'sw-graph', 'n_neighbors_knn': 2, 'n_features': 17}. Best is trial 31 with value: -94360.89565843194.\u001b[0m\n",
      "\u001b[32m[I 2021-10-21 17:56:22,194]\u001b[0m Trial 40 finished with value: -102740.36621060799 and parameters: {'n_neighbors': 19, 'metric': 'l1', 'method': 'sw-graph', 'n_neighbors_knn': 8, 'n_features': 19}. Best is trial 31 with value: -94360.89565843194.\u001b[0m\n",
      "\u001b[32m[I 2021-10-21 17:57:13,439]\u001b[0m Trial 41 finished with value: -95161.37259428394 and parameters: {'n_neighbors': 11, 'metric': 'l1', 'method': 'sw-graph', 'n_neighbors_knn': 2, 'n_features': 16}. Best is trial 31 with value: -94360.89565843194.\u001b[0m\n",
      "\u001b[32m[I 2021-10-21 17:58:03,110]\u001b[0m Trial 42 finished with value: -95219.34814457616 and parameters: {'n_neighbors': 10, 'metric': 'l1', 'method': 'sw-graph', 'n_neighbors_knn': 2, 'n_features': 16}. Best is trial 31 with value: -94360.89565843194.\u001b[0m\n",
      "\u001b[32m[I 2021-10-21 17:58:57,321]\u001b[0m Trial 43 finished with value: -95231.74727681965 and parameters: {'n_neighbors': 8, 'metric': 'l1', 'method': 'sw-graph', 'n_neighbors_knn': 3, 'n_features': 15}. Best is trial 31 with value: -94360.89565843194.\u001b[0m\n",
      "\u001b[32m[I 2021-10-21 17:59:54,934]\u001b[0m Trial 44 finished with value: -101130.02304647677 and parameters: {'n_neighbors': 13, 'metric': 'l1', 'method': 'sw-graph', 'n_neighbors_knn': 6, 'n_features': 18}. Best is trial 31 with value: -94360.89565843194.\u001b[0m\n",
      "\u001b[32m[I 2021-10-21 18:00:44,293]\u001b[0m Trial 45 finished with value: -99273.29476722161 and parameters: {'n_neighbors': 5, 'metric': 'l1', 'method': 'sw-graph', 'n_neighbors_knn': 3, 'n_features': 17}. Best is trial 31 with value: -94360.89565843194.\u001b[0m\n",
      "\u001b[32m[I 2021-10-21 18:01:42,580]\u001b[0m Trial 46 finished with value: -103274.74578272796 and parameters: {'n_neighbors': 12, 'metric': 'cosine', 'method': 'sw-graph', 'n_neighbors_knn': 1, 'n_features': 15}. Best is trial 31 with value: -94360.89565843194.\u001b[0m\n",
      "\u001b[32m[I 2021-10-21 18:02:35,377]\u001b[0m Trial 47 finished with value: -101616.12213593331 and parameters: {'n_neighbors': 8, 'metric': 'l2', 'method': 'sw-graph', 'n_neighbors_knn': 2, 'n_features': 18}. Best is trial 31 with value: -94360.89565843194.\u001b[0m\n",
      "\u001b[32m[I 2021-10-21 18:03:29,347]\u001b[0m Trial 48 finished with value: -94969.40834637235 and parameters: {'n_neighbors': 10, 'metric': 'l1', 'method': 'sw-graph', 'n_neighbors_knn': 4, 'n_features': 16}. Best is trial 31 with value: -94360.89565843194.\u001b[0m\n",
      "\u001b[32m[I 2021-10-21 18:04:19,812]\u001b[0m Trial 49 finished with value: -99673.13057440506 and parameters: {'n_neighbors': 15, 'metric': 'l1', 'method': 'hnsw', 'n_neighbors_knn': 5, 'n_features': 17}. Best is trial 31 with value: -94360.89565843194.\u001b[0m\n"
     ]
    }
   ],
   "source": [
    "sampler = TPESampler(seed=12)\n",
    "direction = \"maximize\"\n",
    "study = optuna.create_study(sampler=sampler, direction=direction)\n",
    "study.enqueue_trial({\n",
    "    'n_neighbors': 11,\n",
    "    'metric': 'l1',\n",
    "    'method': 'hnsw',\n",
    "    'n_neighbors_knn': 5,\n",
    "    'n_features': 21\n",
    "})\n",
    "study.optimize(\n",
    "    objective,\n",
    "    show_progress_bar=True,\n",
    "    n_trials=50,\n",
    "    timeout=3600,\n",
    ")"
   ]
  },
  {
   "cell_type": "code",
   "execution_count": 15,
   "id": "08b39d25",
   "metadata": {},
   "outputs": [
    {
     "data": {
      "text/plain": [
       "{'n_neighbors': 10,\n",
       " 'metric': 'l1',\n",
       " 'method': 'sw-graph',\n",
       " 'n_neighbors_knn': 3,\n",
       " 'n_features': 16}"
      ]
     },
     "execution_count": 15,
     "metadata": {},
     "output_type": "execute_result"
    }
   ],
   "source": [
    "study.best_params"
   ]
  },
  {
   "cell_type": "code",
   "execution_count": 16,
   "id": "d711489d",
   "metadata": {},
   "outputs": [
    {
     "name": "stdout",
     "output_type": "stream",
     "text": [
      "CPU times: user 1min 32s, sys: 631 ms, total: 1min 32s\n",
      "Wall time: 51.3 s\n"
     ]
    },
    {
     "data": {
      "text/plain": [
       "-94417.13966568315"
      ]
     },
     "execution_count": 16,
     "metadata": {},
     "output_type": "execute_result"
    }
   ],
   "source": [
    "%%time\n",
    "\n",
    "model = make_pipeline(\n",
    "    StandardScaler(),\n",
    "    NMSlibTransformer(n_neighbors=10, method='sw-graph', metric=\"l1\"),\n",
    "    KNeighborsRegressor(n_neighbors=3, metric=\"precomputed\"),\n",
    ")\n",
    "\n",
    "cv_scores = cross_val_score(\n",
    "    model, \n",
    "    X_train.iloc[:, :16], \n",
    "    y_train, \n",
    "    scoring=\"neg_root_mean_squared_error\", \n",
    "    cv=5\n",
    ")\n",
    "\n",
    "cv_scores.mean()"
   ]
  },
  {
   "cell_type": "code",
   "execution_count": 17,
   "id": "84ba6609",
   "metadata": {},
   "outputs": [
    {
     "name": "stdout",
     "output_type": "stream",
     "text": [
      "CPU times: user 4min 48s, sys: 2.24 s, total: 4min 50s\n",
      "Wall time: 48 s\n"
     ]
    },
    {
     "data": {
      "text/plain": [
       "-93580.13367321526"
      ]
     },
     "execution_count": 17,
     "metadata": {},
     "output_type": "execute_result"
    }
   ],
   "source": [
    "%%time\n",
    "\n",
    "model = make_pipeline(\n",
    "    StandardScaler(),\n",
    "    NMSlibTransformer(n_neighbors=10, method='hnsw', metric=\"l1\"),\n",
    "    KNeighborsRegressor(n_neighbors=3, metric=\"precomputed\"),\n",
    ")\n",
    "\n",
    "cv_scores = cross_val_score(\n",
    "    model, \n",
    "    X_train.iloc[:, :16], \n",
    "    y_train, \n",
    "    scoring=\"neg_root_mean_squared_error\", \n",
    "    cv=5\n",
    ")\n",
    "\n",
    "cv_scores.mean()"
   ]
  },
  {
   "cell_type": "code",
   "execution_count": 20,
   "id": "8dd7b043",
   "metadata": {},
   "outputs": [
    {
     "name": "stdout",
     "output_type": "stream",
     "text": [
      "CPU times: user 1min 12s, sys: 528 ms, total: 1min 13s\n",
      "Wall time: 10.7 s\n"
     ]
    },
    {
     "data": {
      "text/plain": [
       "88288.55653283234"
      ]
     },
     "execution_count": 20,
     "metadata": {},
     "output_type": "execute_result"
    }
   ],
   "source": [
    "%%time\n",
    "\n",
    "model = make_pipeline(\n",
    "    StandardScaler(),\n",
    "    NMSlibTransformer(n_neighbors=10, method='hnsw', metric=\"l1\"),\n",
    "    KNeighborsRegressor(n_neighbors=3, metric=\"precomputed\"),\n",
    ")\n",
    "model.fit(\n",
    "    X_train.iloc[:, :16], \n",
    "    y_train,\n",
    ")\n",
    "y_pred = model.predict(X_test.iloc[:, :16])\n",
    "np.sqrt(mean_squared_error(y_test, y_pred))"
   ]
  }
 ],
 "metadata": {
  "kernelspec": {
   "display_name": "Python 3 (ipykernel)",
   "language": "python",
   "name": "python3"
  },
  "language_info": {
   "codemirror_mode": {
    "name": "ipython",
    "version": 3
   },
   "file_extension": ".py",
   "mimetype": "text/x-python",
   "name": "python",
   "nbconvert_exporter": "python",
   "pygments_lexer": "ipython3",
   "version": "3.8.11"
  }
 },
 "nbformat": 4,
 "nbformat_minor": 5
}
